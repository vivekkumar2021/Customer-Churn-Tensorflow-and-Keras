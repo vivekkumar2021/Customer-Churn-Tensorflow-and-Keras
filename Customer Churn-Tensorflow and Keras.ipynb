{
 "cells": [
  {
   "cell_type": "markdown",
   "metadata": {},
   "source": [
    "# Customer Churn - Tensorflow and Keras"
   ]
  },
  {
   "cell_type": "markdown",
   "metadata": {},
   "source": [
    "#### Tensorflow: \n",
    "Tensorflow is a free and open-source library for machine learning and artificial intelligence. \n",
    "It was developed by Google. \n",
    "It can be used for developing large-scale machine learning applications.\n",
    "\n",
    "#### Keras:\n",
    "Keras is also an open-source library for machine learning and neural network but it higher-level API compared to Tensorflow and can run on top of Tensorflow.\n",
    "\n",
    "#### Note:\n",
    "Training of model and execution is fast in Tensorflow, while it is slow in Keras. Thus Keras is used mainly for rapid prototyping and applications dealing with small datasets. Whereas, Tensorflow is used for creating large-scale applications."
   ]
  },
  {
   "cell_type": "markdown",
   "metadata": {},
   "source": [
    "## Step 1: Importing libraries and checking for missing and duplicate values"
   ]
  },
  {
   "cell_type": "code",
   "execution_count": 1,
   "metadata": {},
   "outputs": [],
   "source": [
    "import pandas as pd\n",
    "import numpy as np"
   ]
  },
  {
   "cell_type": "code",
   "execution_count": 2,
   "metadata": {},
   "outputs": [],
   "source": [
    "df = pd.read_csv(\"Churn_Modelling.csv\")"
   ]
  },
  {
   "cell_type": "code",
   "execution_count": 3,
   "metadata": {},
   "outputs": [
    {
     "data": {
      "text/html": [
       "<div>\n",
       "<style scoped>\n",
       "    .dataframe tbody tr th:only-of-type {\n",
       "        vertical-align: middle;\n",
       "    }\n",
       "\n",
       "    .dataframe tbody tr th {\n",
       "        vertical-align: top;\n",
       "    }\n",
       "\n",
       "    .dataframe thead th {\n",
       "        text-align: right;\n",
       "    }\n",
       "</style>\n",
       "<table border=\"1\" class=\"dataframe\">\n",
       "  <thead>\n",
       "    <tr style=\"text-align: right;\">\n",
       "      <th></th>\n",
       "      <th>RowNumber</th>\n",
       "      <th>CustomerId</th>\n",
       "      <th>Surname</th>\n",
       "      <th>CreditScore</th>\n",
       "      <th>Geography</th>\n",
       "      <th>Gender</th>\n",
       "      <th>Age</th>\n",
       "      <th>Tenure</th>\n",
       "      <th>Balance</th>\n",
       "      <th>NumOfProducts</th>\n",
       "      <th>HasCrCard</th>\n",
       "      <th>IsActiveMember</th>\n",
       "      <th>EstimatedSalary</th>\n",
       "      <th>Exited</th>\n",
       "    </tr>\n",
       "  </thead>\n",
       "  <tbody>\n",
       "    <tr>\n",
       "      <th>0</th>\n",
       "      <td>1</td>\n",
       "      <td>15634602</td>\n",
       "      <td>Hargrave</td>\n",
       "      <td>619</td>\n",
       "      <td>France</td>\n",
       "      <td>Female</td>\n",
       "      <td>42</td>\n",
       "      <td>2</td>\n",
       "      <td>0.00</td>\n",
       "      <td>1</td>\n",
       "      <td>1</td>\n",
       "      <td>1</td>\n",
       "      <td>101348.88</td>\n",
       "      <td>1</td>\n",
       "    </tr>\n",
       "    <tr>\n",
       "      <th>1</th>\n",
       "      <td>2</td>\n",
       "      <td>15647311</td>\n",
       "      <td>Hill</td>\n",
       "      <td>608</td>\n",
       "      <td>Spain</td>\n",
       "      <td>Female</td>\n",
       "      <td>41</td>\n",
       "      <td>1</td>\n",
       "      <td>83807.86</td>\n",
       "      <td>1</td>\n",
       "      <td>0</td>\n",
       "      <td>1</td>\n",
       "      <td>112542.58</td>\n",
       "      <td>0</td>\n",
       "    </tr>\n",
       "    <tr>\n",
       "      <th>2</th>\n",
       "      <td>3</td>\n",
       "      <td>15619304</td>\n",
       "      <td>Onio</td>\n",
       "      <td>502</td>\n",
       "      <td>France</td>\n",
       "      <td>Female</td>\n",
       "      <td>42</td>\n",
       "      <td>8</td>\n",
       "      <td>159660.80</td>\n",
       "      <td>3</td>\n",
       "      <td>1</td>\n",
       "      <td>0</td>\n",
       "      <td>113931.57</td>\n",
       "      <td>1</td>\n",
       "    </tr>\n",
       "    <tr>\n",
       "      <th>3</th>\n",
       "      <td>4</td>\n",
       "      <td>15701354</td>\n",
       "      <td>Boni</td>\n",
       "      <td>699</td>\n",
       "      <td>France</td>\n",
       "      <td>Female</td>\n",
       "      <td>39</td>\n",
       "      <td>1</td>\n",
       "      <td>0.00</td>\n",
       "      <td>2</td>\n",
       "      <td>0</td>\n",
       "      <td>0</td>\n",
       "      <td>93826.63</td>\n",
       "      <td>0</td>\n",
       "    </tr>\n",
       "    <tr>\n",
       "      <th>4</th>\n",
       "      <td>5</td>\n",
       "      <td>15737888</td>\n",
       "      <td>Mitchell</td>\n",
       "      <td>850</td>\n",
       "      <td>Spain</td>\n",
       "      <td>Female</td>\n",
       "      <td>43</td>\n",
       "      <td>2</td>\n",
       "      <td>125510.82</td>\n",
       "      <td>1</td>\n",
       "      <td>1</td>\n",
       "      <td>1</td>\n",
       "      <td>79084.10</td>\n",
       "      <td>0</td>\n",
       "    </tr>\n",
       "  </tbody>\n",
       "</table>\n",
       "</div>"
      ],
      "text/plain": [
       "   RowNumber  CustomerId   Surname  CreditScore Geography  Gender  Age  \\\n",
       "0          1    15634602  Hargrave          619    France  Female   42   \n",
       "1          2    15647311      Hill          608     Spain  Female   41   \n",
       "2          3    15619304      Onio          502    France  Female   42   \n",
       "3          4    15701354      Boni          699    France  Female   39   \n",
       "4          5    15737888  Mitchell          850     Spain  Female   43   \n",
       "\n",
       "   Tenure    Balance  NumOfProducts  HasCrCard  IsActiveMember  \\\n",
       "0       2       0.00              1          1               1   \n",
       "1       1   83807.86              1          0               1   \n",
       "2       8  159660.80              3          1               0   \n",
       "3       1       0.00              2          0               0   \n",
       "4       2  125510.82              1          1               1   \n",
       "\n",
       "   EstimatedSalary  Exited  \n",
       "0        101348.88       1  \n",
       "1        112542.58       0  \n",
       "2        113931.57       1  \n",
       "3         93826.63       0  \n",
       "4         79084.10       0  "
      ]
     },
     "execution_count": 3,
     "metadata": {},
     "output_type": "execute_result"
    }
   ],
   "source": [
    "df.head()"
   ]
  },
  {
   "cell_type": "code",
   "execution_count": 4,
   "metadata": {},
   "outputs": [
    {
     "data": {
      "text/plain": [
       "(10000, 14)"
      ]
     },
     "execution_count": 4,
     "metadata": {},
     "output_type": "execute_result"
    }
   ],
   "source": [
    "#check dataset rows and columns\n",
    "df.shape"
   ]
  },
  {
   "cell_type": "code",
   "execution_count": 5,
   "metadata": {},
   "outputs": [
    {
     "name": "stdout",
     "output_type": "stream",
     "text": [
      "<class 'pandas.core.frame.DataFrame'>\n",
      "RangeIndex: 10000 entries, 0 to 9999\n",
      "Data columns (total 14 columns):\n",
      " #   Column           Non-Null Count  Dtype  \n",
      "---  ------           --------------  -----  \n",
      " 0   RowNumber        10000 non-null  int64  \n",
      " 1   CustomerId       10000 non-null  int64  \n",
      " 2   Surname          10000 non-null  object \n",
      " 3   CreditScore      10000 non-null  int64  \n",
      " 4   Geography        10000 non-null  object \n",
      " 5   Gender           10000 non-null  object \n",
      " 6   Age              10000 non-null  int64  \n",
      " 7   Tenure           10000 non-null  int64  \n",
      " 8   Balance          10000 non-null  float64\n",
      " 9   NumOfProducts    10000 non-null  int64  \n",
      " 10  HasCrCard        10000 non-null  int64  \n",
      " 11  IsActiveMember   10000 non-null  int64  \n",
      " 12  EstimatedSalary  10000 non-null  float64\n",
      " 13  Exited           10000 non-null  int64  \n",
      "dtypes: float64(2), int64(9), object(3)\n",
      "memory usage: 1.1+ MB\n"
     ]
    }
   ],
   "source": [
    "#check missing values of dataset\n",
    "df.info()"
   ]
  },
  {
   "cell_type": "code",
   "execution_count": 6,
   "metadata": {},
   "outputs": [
    {
     "data": {
      "text/plain": [
       "0"
      ]
     },
     "execution_count": 6,
     "metadata": {},
     "output_type": "execute_result"
    }
   ],
   "source": [
    "#check for duplicate rows\n",
    "df.duplicated().sum()"
   ]
  },
  {
   "cell_type": "markdown",
   "metadata": {},
   "source": [
    "## Step 2: Checking unique values of the features to check if the dataset is imbalanced and drop irrelevant columns"
   ]
  },
  {
   "cell_type": "code",
   "execution_count": 7,
   "metadata": {
    "scrolled": true
   },
   "outputs": [
    {
     "data": {
      "text/plain": [
       "0    7963\n",
       "1    2037\n",
       "Name: Exited, dtype: int64"
      ]
     },
     "execution_count": 7,
     "metadata": {},
     "output_type": "execute_result"
    }
   ],
   "source": [
    "#check our target variable's unique values\n",
    "df[\"Exited\"].value_counts()"
   ]
  },
  {
   "cell_type": "markdown",
   "metadata": {},
   "source": [
    "#### The above cell helps us to understand that this is a classical example of imbalanced dataset. \n",
    "#### 0 = Customers retained by the bank, 1 = Customers who left the bank\n",
    "\n",
    "#### Our concern is mainly on creating the model (not the best one, ofcourse) otherwise we would have considered the high imbalance in the dataset."
   ]
  },
  {
   "cell_type": "code",
   "execution_count": 8,
   "metadata": {
    "scrolled": true
   },
   "outputs": [
    {
     "data": {
      "text/plain": [
       "France     5014\n",
       "Germany    2509\n",
       "Spain      2477\n",
       "Name: Geography, dtype: int64"
      ]
     },
     "execution_count": 8,
     "metadata": {},
     "output_type": "execute_result"
    }
   ],
   "source": [
    "df[\"Geography\"].value_counts()"
   ]
  },
  {
   "cell_type": "markdown",
   "metadata": {},
   "source": [
    "#### Drop irrelevant columns"
   ]
  },
  {
   "cell_type": "code",
   "execution_count": 9,
   "metadata": {},
   "outputs": [],
   "source": [
    "#inplace = True (To make permanent changes in the dataset)\n",
    "df.drop(columns = ['RowNumber', 'CustomerId', 'Surname'], inplace = True)"
   ]
  },
  {
   "cell_type": "code",
   "execution_count": 10,
   "metadata": {},
   "outputs": [
    {
     "data": {
      "text/html": [
       "<div>\n",
       "<style scoped>\n",
       "    .dataframe tbody tr th:only-of-type {\n",
       "        vertical-align: middle;\n",
       "    }\n",
       "\n",
       "    .dataframe tbody tr th {\n",
       "        vertical-align: top;\n",
       "    }\n",
       "\n",
       "    .dataframe thead th {\n",
       "        text-align: right;\n",
       "    }\n",
       "</style>\n",
       "<table border=\"1\" class=\"dataframe\">\n",
       "  <thead>\n",
       "    <tr style=\"text-align: right;\">\n",
       "      <th></th>\n",
       "      <th>CreditScore</th>\n",
       "      <th>Geography</th>\n",
       "      <th>Gender</th>\n",
       "      <th>Age</th>\n",
       "      <th>Tenure</th>\n",
       "      <th>Balance</th>\n",
       "      <th>NumOfProducts</th>\n",
       "      <th>HasCrCard</th>\n",
       "      <th>IsActiveMember</th>\n",
       "      <th>EstimatedSalary</th>\n",
       "      <th>Exited</th>\n",
       "    </tr>\n",
       "  </thead>\n",
       "  <tbody>\n",
       "    <tr>\n",
       "      <th>0</th>\n",
       "      <td>619</td>\n",
       "      <td>France</td>\n",
       "      <td>Female</td>\n",
       "      <td>42</td>\n",
       "      <td>2</td>\n",
       "      <td>0.00</td>\n",
       "      <td>1</td>\n",
       "      <td>1</td>\n",
       "      <td>1</td>\n",
       "      <td>101348.88</td>\n",
       "      <td>1</td>\n",
       "    </tr>\n",
       "    <tr>\n",
       "      <th>1</th>\n",
       "      <td>608</td>\n",
       "      <td>Spain</td>\n",
       "      <td>Female</td>\n",
       "      <td>41</td>\n",
       "      <td>1</td>\n",
       "      <td>83807.86</td>\n",
       "      <td>1</td>\n",
       "      <td>0</td>\n",
       "      <td>1</td>\n",
       "      <td>112542.58</td>\n",
       "      <td>0</td>\n",
       "    </tr>\n",
       "    <tr>\n",
       "      <th>2</th>\n",
       "      <td>502</td>\n",
       "      <td>France</td>\n",
       "      <td>Female</td>\n",
       "      <td>42</td>\n",
       "      <td>8</td>\n",
       "      <td>159660.80</td>\n",
       "      <td>3</td>\n",
       "      <td>1</td>\n",
       "      <td>0</td>\n",
       "      <td>113931.57</td>\n",
       "      <td>1</td>\n",
       "    </tr>\n",
       "    <tr>\n",
       "      <th>3</th>\n",
       "      <td>699</td>\n",
       "      <td>France</td>\n",
       "      <td>Female</td>\n",
       "      <td>39</td>\n",
       "      <td>1</td>\n",
       "      <td>0.00</td>\n",
       "      <td>2</td>\n",
       "      <td>0</td>\n",
       "      <td>0</td>\n",
       "      <td>93826.63</td>\n",
       "      <td>0</td>\n",
       "    </tr>\n",
       "    <tr>\n",
       "      <th>4</th>\n",
       "      <td>850</td>\n",
       "      <td>Spain</td>\n",
       "      <td>Female</td>\n",
       "      <td>43</td>\n",
       "      <td>2</td>\n",
       "      <td>125510.82</td>\n",
       "      <td>1</td>\n",
       "      <td>1</td>\n",
       "      <td>1</td>\n",
       "      <td>79084.10</td>\n",
       "      <td>0</td>\n",
       "    </tr>\n",
       "  </tbody>\n",
       "</table>\n",
       "</div>"
      ],
      "text/plain": [
       "   CreditScore Geography  Gender  Age  Tenure    Balance  NumOfProducts  \\\n",
       "0          619    France  Female   42       2       0.00              1   \n",
       "1          608     Spain  Female   41       1   83807.86              1   \n",
       "2          502    France  Female   42       8  159660.80              3   \n",
       "3          699    France  Female   39       1       0.00              2   \n",
       "4          850     Spain  Female   43       2  125510.82              1   \n",
       "\n",
       "   HasCrCard  IsActiveMember  EstimatedSalary  Exited  \n",
       "0          1               1        101348.88       1  \n",
       "1          0               1        112542.58       0  \n",
       "2          1               0        113931.57       1  \n",
       "3          0               0         93826.63       0  \n",
       "4          1               1         79084.10       0  "
      ]
     },
     "execution_count": 10,
     "metadata": {},
     "output_type": "execute_result"
    }
   ],
   "source": [
    "df.head()"
   ]
  },
  {
   "cell_type": "markdown",
   "metadata": {},
   "source": [
    "#### We are not doing EDA because we have already done it in our first part. We are only focsuing on building our model using Artificial Neural Network (ANN) with Keras."
   ]
  },
  {
   "cell_type": "markdown",
   "metadata": {},
   "source": [
    "## Step 4: One hot encoding categorical columns and Scaling all the columns"
   ]
  },
  {
   "cell_type": "markdown",
   "metadata": {},
   "source": [
    "#### Encoding features"
   ]
  },
  {
   "cell_type": "code",
   "execution_count": 11,
   "metadata": {},
   "outputs": [],
   "source": [
    "df = pd.get_dummies(df, columns = ['Geography', 'Gender'], drop_first=True)"
   ]
  },
  {
   "cell_type": "code",
   "execution_count": 12,
   "metadata": {},
   "outputs": [
    {
     "data": {
      "text/html": [
       "<div>\n",
       "<style scoped>\n",
       "    .dataframe tbody tr th:only-of-type {\n",
       "        vertical-align: middle;\n",
       "    }\n",
       "\n",
       "    .dataframe tbody tr th {\n",
       "        vertical-align: top;\n",
       "    }\n",
       "\n",
       "    .dataframe thead th {\n",
       "        text-align: right;\n",
       "    }\n",
       "</style>\n",
       "<table border=\"1\" class=\"dataframe\">\n",
       "  <thead>\n",
       "    <tr style=\"text-align: right;\">\n",
       "      <th></th>\n",
       "      <th>CreditScore</th>\n",
       "      <th>Age</th>\n",
       "      <th>Tenure</th>\n",
       "      <th>Balance</th>\n",
       "      <th>NumOfProducts</th>\n",
       "      <th>HasCrCard</th>\n",
       "      <th>IsActiveMember</th>\n",
       "      <th>EstimatedSalary</th>\n",
       "      <th>Exited</th>\n",
       "      <th>Geography_Germany</th>\n",
       "      <th>Geography_Spain</th>\n",
       "      <th>Gender_Male</th>\n",
       "    </tr>\n",
       "  </thead>\n",
       "  <tbody>\n",
       "    <tr>\n",
       "      <th>0</th>\n",
       "      <td>619</td>\n",
       "      <td>42</td>\n",
       "      <td>2</td>\n",
       "      <td>0.00</td>\n",
       "      <td>1</td>\n",
       "      <td>1</td>\n",
       "      <td>1</td>\n",
       "      <td>101348.88</td>\n",
       "      <td>1</td>\n",
       "      <td>0</td>\n",
       "      <td>0</td>\n",
       "      <td>0</td>\n",
       "    </tr>\n",
       "    <tr>\n",
       "      <th>1</th>\n",
       "      <td>608</td>\n",
       "      <td>41</td>\n",
       "      <td>1</td>\n",
       "      <td>83807.86</td>\n",
       "      <td>1</td>\n",
       "      <td>0</td>\n",
       "      <td>1</td>\n",
       "      <td>112542.58</td>\n",
       "      <td>0</td>\n",
       "      <td>0</td>\n",
       "      <td>1</td>\n",
       "      <td>0</td>\n",
       "    </tr>\n",
       "    <tr>\n",
       "      <th>2</th>\n",
       "      <td>502</td>\n",
       "      <td>42</td>\n",
       "      <td>8</td>\n",
       "      <td>159660.80</td>\n",
       "      <td>3</td>\n",
       "      <td>1</td>\n",
       "      <td>0</td>\n",
       "      <td>113931.57</td>\n",
       "      <td>1</td>\n",
       "      <td>0</td>\n",
       "      <td>0</td>\n",
       "      <td>0</td>\n",
       "    </tr>\n",
       "    <tr>\n",
       "      <th>3</th>\n",
       "      <td>699</td>\n",
       "      <td>39</td>\n",
       "      <td>1</td>\n",
       "      <td>0.00</td>\n",
       "      <td>2</td>\n",
       "      <td>0</td>\n",
       "      <td>0</td>\n",
       "      <td>93826.63</td>\n",
       "      <td>0</td>\n",
       "      <td>0</td>\n",
       "      <td>0</td>\n",
       "      <td>0</td>\n",
       "    </tr>\n",
       "    <tr>\n",
       "      <th>4</th>\n",
       "      <td>850</td>\n",
       "      <td>43</td>\n",
       "      <td>2</td>\n",
       "      <td>125510.82</td>\n",
       "      <td>1</td>\n",
       "      <td>1</td>\n",
       "      <td>1</td>\n",
       "      <td>79084.10</td>\n",
       "      <td>0</td>\n",
       "      <td>0</td>\n",
       "      <td>1</td>\n",
       "      <td>0</td>\n",
       "    </tr>\n",
       "  </tbody>\n",
       "</table>\n",
       "</div>"
      ],
      "text/plain": [
       "   CreditScore  Age  Tenure    Balance  NumOfProducts  HasCrCard  \\\n",
       "0          619   42       2       0.00              1          1   \n",
       "1          608   41       1   83807.86              1          0   \n",
       "2          502   42       8  159660.80              3          1   \n",
       "3          699   39       1       0.00              2          0   \n",
       "4          850   43       2  125510.82              1          1   \n",
       "\n",
       "   IsActiveMember  EstimatedSalary  Exited  Geography_Germany  \\\n",
       "0               1        101348.88       1                  0   \n",
       "1               1        112542.58       0                  0   \n",
       "2               0        113931.57       1                  0   \n",
       "3               0         93826.63       0                  0   \n",
       "4               1         79084.10       0                  0   \n",
       "\n",
       "   Geography_Spain  Gender_Male  \n",
       "0                0            0  \n",
       "1                1            0  \n",
       "2                0            0  \n",
       "3                0            0  \n",
       "4                1            0  "
      ]
     },
     "execution_count": 12,
     "metadata": {},
     "output_type": "execute_result"
    }
   ],
   "source": [
    "df.head()"
   ]
  },
  {
   "cell_type": "markdown",
   "metadata": {},
   "source": [
    "#### We have to scale all the values as few values have 6 digits and few only have 1 digit. \n",
    "#### This is also very useful while training Neural Networks as the value of the weights does not converge easily. \n",
    "#### So, we make sure that before builing a Neural Network model we scale the values beforehand.\n",
    "\n",
    "### Scaling all the features"
   ]
  },
  {
   "cell_type": "code",
   "execution_count": 13,
   "metadata": {},
   "outputs": [],
   "source": [
    "# Split dataset\n",
    "X = df.drop(columns = ['Exited'])\n",
    "y = df['Exited']\n",
    "\n",
    "from sklearn.model_selection import train_test_split\n",
    "\n",
    "X_train, X_test, y_train, y_test = train_test_split(X,y,test_size=0.2, random_state=1)"
   ]
  },
  {
   "cell_type": "code",
   "execution_count": 14,
   "metadata": {},
   "outputs": [
    {
     "data": {
      "text/plain": [
       "((8000, 11), (2000, 11))"
      ]
     },
     "execution_count": 14,
     "metadata": {},
     "output_type": "execute_result"
    }
   ],
   "source": [
    "X_train.shape, X_test.shape"
   ]
  },
  {
   "cell_type": "code",
   "execution_count": 15,
   "metadata": {
    "scrolled": true
   },
   "outputs": [
    {
     "data": {
      "text/plain": [
       "((8000,), (2000,))"
      ]
     },
     "execution_count": 15,
     "metadata": {},
     "output_type": "execute_result"
    }
   ],
   "source": [
    "y_train.shape, y_test.shape"
   ]
  },
  {
   "cell_type": "code",
   "execution_count": 16,
   "metadata": {},
   "outputs": [],
   "source": [
    "from sklearn.preprocessing import StandardScaler\n",
    "\n",
    "scaler = StandardScaler()\n",
    "\n",
    "X_train_scaled = scaler.fit_transform(X_train)\n",
    "X_test_scaled = scaler.transform(X_test)"
   ]
  },
  {
   "cell_type": "code",
   "execution_count": 17,
   "metadata": {},
   "outputs": [
    {
     "data": {
      "text/plain": [
       "array([[-0.23082038, -0.94449979, -0.70174202, ...,  1.71490137,\n",
       "        -0.57273139,  0.91509065],\n",
       "       [-0.25150912, -0.94449979, -0.35520275, ..., -0.58312392,\n",
       "        -0.57273139, -1.09278791],\n",
       "       [-0.3963303 ,  0.77498705,  0.33787579, ...,  1.71490137,\n",
       "        -0.57273139, -1.09278791],\n",
       "       ...,\n",
       "       [ 0.22433188,  0.58393295,  1.3774936 , ..., -0.58312392,\n",
       "        -0.57273139, -1.09278791],\n",
       "       [ 0.13123255,  0.01077067,  1.03095433, ..., -0.58312392,\n",
       "        -0.57273139, -1.09278791],\n",
       "       [ 1.1656695 ,  0.29735181,  0.33787579, ...,  1.71490137,\n",
       "        -0.57273139,  0.91509065]])"
      ]
     },
     "execution_count": 17,
     "metadata": {},
     "output_type": "execute_result"
    }
   ],
   "source": [
    "# We will see the transformed values in 2-D array.\n",
    "X_train_scaled"
   ]
  },
  {
   "cell_type": "markdown",
   "metadata": {},
   "source": [
    "## Step 5: Time to use Keras"
   ]
  },
  {
   "cell_type": "markdown",
   "metadata": {},
   "source": [
    "#### Import tensorflow and keras"
   ]
  },
  {
   "cell_type": "code",
   "execution_count": 18,
   "metadata": {},
   "outputs": [],
   "source": [
    "import tensorflow\n",
    "from tensorflow import keras\n",
    "from tensorflow.keras import Sequential # There are 2 types of keras model: Sequential and Non-Sequential. We are focusing on sequential model now.\n",
    "from tensorflow.keras.layers import Dense "
   ]
  },
  {
   "cell_type": "markdown",
   "metadata": {},
   "source": [
    "#### Add layers (adding weights and biases)"
   ]
  },
  {
   "cell_type": "code",
   "execution_count": 19,
   "metadata": {},
   "outputs": [],
   "source": [
    "model = Sequential()\n",
    "\n",
    "model.add(Dense(3, activation='sigmoid', input_dim=11))\n",
    "model.add(Dense(1, activation='sigmoid'))"
   ]
  },
  {
   "cell_type": "code",
   "execution_count": 20,
   "metadata": {},
   "outputs": [
    {
     "name": "stdout",
     "output_type": "stream",
     "text": [
      "Model: \"sequential\"\n",
      "_________________________________________________________________\n",
      "Layer (type)                 Output Shape              Param #   \n",
      "=================================================================\n",
      "dense (Dense)                (None, 3)                 36        \n",
      "_________________________________________________________________\n",
      "dense_1 (Dense)              (None, 1)                 4         \n",
      "=================================================================\n",
      "Total params: 40\n",
      "Trainable params: 40\n",
      "Non-trainable params: 0\n",
      "_________________________________________________________________\n"
     ]
    }
   ],
   "source": [
    "model.summary()"
   ]
  },
  {
   "cell_type": "code",
   "execution_count": 21,
   "metadata": {},
   "outputs": [],
   "source": [
    "model.compile(loss='binary_crossentropy', optimizer='Adam')"
   ]
  },
  {
   "cell_type": "markdown",
   "metadata": {},
   "source": [
    "#### Fitting the trained model "
   ]
  },
  {
   "cell_type": "code",
   "execution_count": 22,
   "metadata": {
    "scrolled": true
   },
   "outputs": [
    {
     "name": "stdout",
     "output_type": "stream",
     "text": [
      "Epoch 1/10\n",
      "250/250 [==============================] - 1s 2ms/step - loss: 0.7483\n",
      "Epoch 2/10\n",
      "250/250 [==============================] - 0s 2ms/step - loss: 0.6016A: 0s - loss: 0.603\n",
      "Epoch 3/10\n",
      "250/250 [==============================] - 1s 2ms/step - loss: 0.5259\n",
      "Epoch 4/10\n",
      "250/250 [==============================] - 1s 2ms/step - loss: 0.4946\n",
      "Epoch 5/10\n",
      "250/250 [==============================] - 0s 2ms/step - loss: 0.4779A: 0s - loss: 0.\n",
      "Epoch 6/10\n",
      "250/250 [==============================] - 0s 1ms/step - loss: 0.4589\n",
      "Epoch 7/10\n",
      "250/250 [==============================] - 0s 1ms/step - loss: 0.4493\n",
      "Epoch 8/10\n",
      "250/250 [==============================] - 0s 1ms/step - loss: 0.4492\n",
      "Epoch 9/10\n",
      "250/250 [==============================] - 0s 1ms/step - loss: 0.4461\n",
      "Epoch 10/10\n",
      "250/250 [==============================] - 0s 2ms/step - loss: 0.4410\n"
     ]
    },
    {
     "data": {
      "text/plain": [
       "<tensorflow.python.keras.callbacks.History at 0x1e306543460>"
      ]
     },
     "execution_count": 22,
     "metadata": {},
     "output_type": "execute_result"
    }
   ],
   "source": [
    "model.fit(X_train_scaled, y_train, epochs=10)"
   ]
  },
  {
   "cell_type": "markdown",
   "metadata": {},
   "source": [
    "#### Checking the stored locaion of weights and biases of our trained model"
   ]
  },
  {
   "cell_type": "code",
   "execution_count": 23,
   "metadata": {},
   "outputs": [
    {
     "data": {
      "text/plain": [
       "[array([[ 0.0271439 ,  0.18402255,  0.1079173 ],\n",
       "        [ 1.0168953 , -1.9720978 , -1.3122321 ],\n",
       "        [-0.08968248, -0.03268926,  0.01211126],\n",
       "        [ 0.5873588 , -0.19693361, -0.21479076],\n",
       "        [ 0.10463957,  0.1003944 ,  0.15218893],\n",
       "        [-0.4823586 , -0.07005653, -0.03181623],\n",
       "        [-1.0564033 ,  0.5101739 ,  0.866854  ],\n",
       "        [ 0.16587432,  0.08040593, -0.10886946],\n",
       "        [ 0.5312691 , -0.55274576, -0.74476   ],\n",
       "        [-0.15270557, -0.11129548,  0.08280617],\n",
       "        [-0.10405269,  0.4721571 ,  0.6202391 ]], dtype=float32),\n",
       " array([-0.33304656,  0.2990037 ,  0.78626764], dtype=float32)]"
      ]
     },
     "execution_count": 23,
     "metadata": {},
     "output_type": "execute_result"
    }
   ],
   "source": [
    "#to fetch where the model weights and biases are stored\n",
    "\n",
    "#11x3 weights with 3 biases\n",
    "model.layers[0].get_weights()"
   ]
  },
  {
   "cell_type": "code",
   "execution_count": 24,
   "metadata": {},
   "outputs": [
    {
     "data": {
      "text/plain": [
       "[array([[ 0.42704305],\n",
       "        [-0.8352419 ],\n",
       "        [-1.1275251 ]], dtype=float32),\n",
       " array([-0.56383586], dtype=float32)]"
      ]
     },
     "execution_count": 24,
     "metadata": {},
     "output_type": "execute_result"
    }
   ],
   "source": [
    "#3x1 weights with 1 bias\n",
    "model.layers[1].get_weights()"
   ]
  },
  {
   "cell_type": "markdown",
   "metadata": {},
   "source": [
    "## Step 6: Predict"
   ]
  },
  {
   "cell_type": "code",
   "execution_count": 25,
   "metadata": {},
   "outputs": [
    {
     "data": {
      "text/plain": [
       "array([[0.12649956],\n",
       "       [0.1375916 ],\n",
       "       [0.14059338],\n",
       "       ...,\n",
       "       [0.08291584],\n",
       "       [0.14334762],\n",
       "       [0.34898016]], dtype=float32)"
      ]
     },
     "execution_count": 25,
     "metadata": {},
     "output_type": "execute_result"
    }
   ],
   "source": [
    "#we are getting the prediction not as 0 and 1 based on the dataset \n",
    "#because we are using sigmoid function whose output is between 0 and 1 which is a probability. \n",
    "model.predict(X_test_scaled)"
   ]
  },
  {
   "cell_type": "code",
   "execution_count": 26,
   "metadata": {},
   "outputs": [],
   "source": [
    "#we need to decide the threshold by ourselves. \n",
    "#Here, we are taking the threshold as 0.5 but we should use ROC curve to find out the optimal threshold for our predictions.\n",
    "y_log = model.predict(X_test_scaled)"
   ]
  },
  {
   "cell_type": "code",
   "execution_count": 27,
   "metadata": {},
   "outputs": [],
   "source": [
    "#Setting up our threshold at 0.5\n",
    "y_pred = np.where(y_log > 0.5, 1, 0)"
   ]
  },
  {
   "cell_type": "markdown",
   "metadata": {},
   "source": [
    "## Step 7: Evaluating model metrics and methods to enhance accuracy score"
   ]
  },
  {
   "cell_type": "code",
   "execution_count": 28,
   "metadata": {},
   "outputs": [
    {
     "data": {
      "text/plain": [
       "0.7925"
      ]
     },
     "execution_count": 28,
     "metadata": {},
     "output_type": "execute_result"
    }
   ],
   "source": [
    "from sklearn.metrics import accuracy_score\n",
    "\n",
    "accuracy_score(y_test, y_pred)"
   ]
  },
  {
   "cell_type": "code",
   "execution_count": 29,
   "metadata": {},
   "outputs": [],
   "source": [
    "#Steps to enhance accuracy score:\n",
    "\n",
    "#1. Increase the epochs to 100 or even 1000\n",
    "#2. Change activation function from \"sigmoid\" to \"ReLU\"\n",
    "#3. Increase the no of nodes of layer (Here, from 3 nodes to 10,30 etc., and from 1 to 3,5,etc.,)\n",
    "#Note: Keep eperimenting with the nodes and layers. If we increase the nodes and layers too much then it will cause overfitting\n",
    "\n"
   ]
  },
  {
   "cell_type": "markdown",
   "metadata": {},
   "source": [
    "## Step 8: Enhancing the model performance using the notes listed above"
   ]
  },
  {
   "cell_type": "code",
   "execution_count": 30,
   "metadata": {},
   "outputs": [],
   "source": [
    "#Changing hidden layers to 11 and adding an extra layer also both having activation function = relu\n",
    "model = Sequential()\n",
    "\n",
    "model.add(Dense(11, activation='relu', input_dim=11))\n",
    "model.add(Dense(11, activation='relu'))\n",
    "model.add(Dense(1, activation='sigmoid'))"
   ]
  },
  {
   "cell_type": "code",
   "execution_count": 31,
   "metadata": {},
   "outputs": [
    {
     "name": "stdout",
     "output_type": "stream",
     "text": [
      "Model: \"sequential_1\"\n",
      "_________________________________________________________________\n",
      "Layer (type)                 Output Shape              Param #   \n",
      "=================================================================\n",
      "dense_2 (Dense)              (None, 11)                132       \n",
      "_________________________________________________________________\n",
      "dense_3 (Dense)              (None, 11)                132       \n",
      "_________________________________________________________________\n",
      "dense_4 (Dense)              (None, 1)                 12        \n",
      "=================================================================\n",
      "Total params: 276\n",
      "Trainable params: 276\n",
      "Non-trainable params: 0\n",
      "_________________________________________________________________\n"
     ]
    }
   ],
   "source": [
    "model.summary()"
   ]
  },
  {
   "cell_type": "code",
   "execution_count": 32,
   "metadata": {},
   "outputs": [],
   "source": [
    "#adding accuracy also directly\n",
    "model.compile(loss='binary_crossentropy', optimizer='Adam', metrics=['accuracy'])"
   ]
  },
  {
   "cell_type": "code",
   "execution_count": 33,
   "metadata": {},
   "outputs": [
    {
     "name": "stdout",
     "output_type": "stream",
     "text": [
      "Epoch 1/100\n",
      "200/200 [==============================] - 2s 9ms/step - loss: 0.5862 - accuracy: 0.7167 - val_loss: 0.4770 - val_accuracy: 0.7975\n",
      "Epoch 2/100\n",
      "200/200 [==============================] - 0s 2ms/step - loss: 0.4639 - accuracy: 0.7983 - val_loss: 0.4453 - val_accuracy: 0.7975\n",
      "Epoch 3/100\n",
      "200/200 [==============================] - 0s 2ms/step - loss: 0.4392 - accuracy: 0.7973 - val_loss: 0.4319 - val_accuracy: 0.8094\n",
      "Epoch 4/100\n",
      "200/200 [==============================] - 0s 2ms/step - loss: 0.4166 - accuracy: 0.8183 - val_loss: 0.4229 - val_accuracy: 0.8175\n",
      "Epoch 5/100\n",
      "200/200 [==============================] - 0s 2ms/step - loss: 0.4109 - accuracy: 0.8250 - val_loss: 0.4156 - val_accuracy: 0.8206\n",
      "Epoch 6/100\n",
      "200/200 [==============================] - 0s 2ms/step - loss: 0.4226 - accuracy: 0.8153 - val_loss: 0.4094 - val_accuracy: 0.8213\n",
      "Epoch 7/100\n",
      "200/200 [==============================] - 0s 2ms/step - loss: 0.4065 - accuracy: 0.8287 - val_loss: 0.4034 - val_accuracy: 0.8263\n",
      "Epoch 8/100\n",
      "200/200 [==============================] - 0s 2ms/step - loss: 0.3918 - accuracy: 0.8401 - val_loss: 0.3964 - val_accuracy: 0.8269\n",
      "Epoch 9/100\n",
      "200/200 [==============================] - 0s 2ms/step - loss: 0.3814 - accuracy: 0.8434 - val_loss: 0.3877 - val_accuracy: 0.8306\n",
      "Epoch 10/100\n",
      "200/200 [==============================] - 0s 2ms/step - loss: 0.3813 - accuracy: 0.8404 - val_loss: 0.3823 - val_accuracy: 0.8331\n",
      "Epoch 11/100\n",
      "200/200 [==============================] - 0s 2ms/step - loss: 0.3750 - accuracy: 0.8431 - val_loss: 0.3751 - val_accuracy: 0.8381\n",
      "Epoch 12/100\n",
      "200/200 [==============================] - 0s 2ms/step - loss: 0.3683 - accuracy: 0.8500 - val_loss: 0.3694 - val_accuracy: 0.8381\n",
      "Epoch 13/100\n",
      "200/200 [==============================] - 0s 2ms/step - loss: 0.3531 - accuracy: 0.8568 - val_loss: 0.3641 - val_accuracy: 0.8413\n",
      "Epoch 14/100\n",
      "200/200 [==============================] - 0s 2ms/step - loss: 0.3480 - accuracy: 0.8582 - val_loss: 0.3615 - val_accuracy: 0.8419\n",
      "Epoch 15/100\n",
      "200/200 [==============================] - 0s 2ms/step - loss: 0.3401 - accuracy: 0.8615 - val_loss: 0.3584 - val_accuracy: 0.8413\n",
      "Epoch 16/100\n",
      "200/200 [==============================] - 0s 2ms/step - loss: 0.3469 - accuracy: 0.8556 - val_loss: 0.3556 - val_accuracy: 0.8481\n",
      "Epoch 17/100\n",
      "200/200 [==============================] - 0s 2ms/step - loss: 0.3469 - accuracy: 0.8537 - val_loss: 0.3540 - val_accuracy: 0.8481\n",
      "Epoch 18/100\n",
      "200/200 [==============================] - 0s 2ms/step - loss: 0.3412 - accuracy: 0.8572 - val_loss: 0.3520 - val_accuracy: 0.8494\n",
      "Epoch 19/100\n",
      "200/200 [==============================] - 0s 2ms/step - loss: 0.3521 - accuracy: 0.8475 - val_loss: 0.3519 - val_accuracy: 0.8500\n",
      "Epoch 20/100\n",
      "200/200 [==============================] - 0s 2ms/step - loss: 0.3528 - accuracy: 0.8551 - val_loss: 0.3501 - val_accuracy: 0.8500\n",
      "Epoch 21/100\n",
      "200/200 [==============================] - 0s 2ms/step - loss: 0.3534 - accuracy: 0.8530 - val_loss: 0.3511 - val_accuracy: 0.8525\n",
      "Epoch 22/100\n",
      "200/200 [==============================] - 0s 2ms/step - loss: 0.3287 - accuracy: 0.8648 - val_loss: 0.3503 - val_accuracy: 0.8519\n",
      "Epoch 23/100\n",
      "200/200 [==============================] - 0s 2ms/step - loss: 0.3360 - accuracy: 0.8618 - val_loss: 0.3485 - val_accuracy: 0.8519\n",
      "Epoch 24/100\n",
      "200/200 [==============================] - 0s 2ms/step - loss: 0.3283 - accuracy: 0.8637 - val_loss: 0.3486 - val_accuracy: 0.8537\n",
      "Epoch 25/100\n",
      "200/200 [==============================] - 0s 2ms/step - loss: 0.3330 - accuracy: 0.8612 - val_loss: 0.3492 - val_accuracy: 0.8525\n",
      "Epoch 26/100\n",
      "200/200 [==============================] - 0s 2ms/step - loss: 0.3524 - accuracy: 0.8512 - val_loss: 0.3487 - val_accuracy: 0.8500\n",
      "Epoch 27/100\n",
      "200/200 [==============================] - 0s 2ms/step - loss: 0.3327 - accuracy: 0.8610 - val_loss: 0.3482 - val_accuracy: 0.8500\n",
      "Epoch 28/100\n",
      "200/200 [==============================] - 0s 2ms/step - loss: 0.3274 - accuracy: 0.8664 - val_loss: 0.3478 - val_accuracy: 0.8531\n",
      "Epoch 29/100\n",
      "200/200 [==============================] - 0s 2ms/step - loss: 0.3275 - accuracy: 0.8637 - val_loss: 0.3475 - val_accuracy: 0.8531\n",
      "Epoch 30/100\n",
      "200/200 [==============================] - 0s 2ms/step - loss: 0.3231 - accuracy: 0.8697 - val_loss: 0.3472 - val_accuracy: 0.8500\n",
      "Epoch 31/100\n",
      "200/200 [==============================] - 0s 2ms/step - loss: 0.3289 - accuracy: 0.8658 - val_loss: 0.3483 - val_accuracy: 0.8531\n",
      "Epoch 32/100\n",
      "200/200 [==============================] - 0s 2ms/step - loss: 0.3429 - accuracy: 0.8534 - val_loss: 0.3481 - val_accuracy: 0.8531\n",
      "Epoch 33/100\n",
      "200/200 [==============================] - 0s 2ms/step - loss: 0.3289 - accuracy: 0.8677 - val_loss: 0.3468 - val_accuracy: 0.8531\n",
      "Epoch 34/100\n",
      "200/200 [==============================] - 0s 2ms/step - loss: 0.3249 - accuracy: 0.8656 - val_loss: 0.3482 - val_accuracy: 0.8525\n",
      "Epoch 35/100\n",
      "200/200 [==============================] - 0s 2ms/step - loss: 0.3241 - accuracy: 0.8696 - val_loss: 0.3481 - val_accuracy: 0.8525\n",
      "Epoch 36/100\n",
      "200/200 [==============================] - 0s 2ms/step - loss: 0.3339 - accuracy: 0.8666 - val_loss: 0.3475 - val_accuracy: 0.8519\n",
      "Epoch 37/100\n",
      "200/200 [==============================] - 0s 2ms/step - loss: 0.3271 - accuracy: 0.8662 - val_loss: 0.3464 - val_accuracy: 0.8537\n",
      "Epoch 38/100\n",
      "200/200 [==============================] - 0s 2ms/step - loss: 0.3300 - accuracy: 0.8634 - val_loss: 0.3465 - val_accuracy: 0.8519\n",
      "Epoch 39/100\n",
      "200/200 [==============================] - 0s 2ms/step - loss: 0.3287 - accuracy: 0.8617 - val_loss: 0.3462 - val_accuracy: 0.8525\n",
      "Epoch 40/100\n",
      "200/200 [==============================] - 0s 2ms/step - loss: 0.3209 - accuracy: 0.8706 - val_loss: 0.3455 - val_accuracy: 0.8537\n",
      "Epoch 41/100\n",
      "200/200 [==============================] - 0s 2ms/step - loss: 0.3303 - accuracy: 0.8649 - val_loss: 0.3456 - val_accuracy: 0.8531\n",
      "Epoch 42/100\n",
      "200/200 [==============================] - 0s 2ms/step - loss: 0.3234 - accuracy: 0.8663 - val_loss: 0.3467 - val_accuracy: 0.8550\n",
      "Epoch 43/100\n",
      "200/200 [==============================] - 0s 2ms/step - loss: 0.3372 - accuracy: 0.8615 - val_loss: 0.3453 - val_accuracy: 0.8537\n",
      "Epoch 44/100\n",
      "200/200 [==============================] - 0s 2ms/step - loss: 0.3285 - accuracy: 0.8644 - val_loss: 0.3445 - val_accuracy: 0.8531\n",
      "Epoch 45/100\n",
      "200/200 [==============================] - 0s 2ms/step - loss: 0.3334 - accuracy: 0.8659 - val_loss: 0.3450 - val_accuracy: 0.8544\n",
      "Epoch 46/100\n",
      "200/200 [==============================] - 0s 2ms/step - loss: 0.3192 - accuracy: 0.8707 - val_loss: 0.3450 - val_accuracy: 0.8487\n",
      "Epoch 47/100\n",
      "200/200 [==============================] - 0s 2ms/step - loss: 0.3362 - accuracy: 0.8612 - val_loss: 0.3458 - val_accuracy: 0.8531\n",
      "Epoch 48/100\n",
      "200/200 [==============================] - 0s 2ms/step - loss: 0.3292 - accuracy: 0.8628 - val_loss: 0.3472 - val_accuracy: 0.8506\n",
      "Epoch 49/100\n",
      "200/200 [==============================] - 0s 2ms/step - loss: 0.3243 - accuracy: 0.8669 - val_loss: 0.3463 - val_accuracy: 0.8506\n",
      "Epoch 50/100\n",
      "200/200 [==============================] - 0s 2ms/step - loss: 0.3330 - accuracy: 0.8634 - val_loss: 0.3450 - val_accuracy: 0.8525\n",
      "Epoch 51/100\n",
      "200/200 [==============================] - 0s 2ms/step - loss: 0.3249 - accuracy: 0.8679 - val_loss: 0.3459 - val_accuracy: 0.8512\n",
      "Epoch 52/100\n",
      "200/200 [==============================] - 0s 2ms/step - loss: 0.3292 - accuracy: 0.8697 - val_loss: 0.3451 - val_accuracy: 0.8550\n",
      "Epoch 53/100\n",
      "200/200 [==============================] - 0s 2ms/step - loss: 0.3290 - accuracy: 0.8637 - val_loss: 0.3466 - val_accuracy: 0.8494\n",
      "Epoch 54/100\n",
      "200/200 [==============================] - 0s 2ms/step - loss: 0.3289 - accuracy: 0.8641 - val_loss: 0.3462 - val_accuracy: 0.8487\n",
      "Epoch 55/100\n",
      "200/200 [==============================] - 0s 2ms/step - loss: 0.3356 - accuracy: 0.8608 - val_loss: 0.3457 - val_accuracy: 0.8506\n",
      "Epoch 56/100\n",
      "200/200 [==============================] - 0s 2ms/step - loss: 0.3487 - accuracy: 0.8559 - val_loss: 0.3446 - val_accuracy: 0.8506\n",
      "Epoch 57/100\n",
      "200/200 [==============================] - 0s 2ms/step - loss: 0.3376 - accuracy: 0.8620 - val_loss: 0.3460 - val_accuracy: 0.8500\n"
     ]
    },
    {
     "name": "stdout",
     "output_type": "stream",
     "text": [
      "Epoch 58/100\n",
      "200/200 [==============================] - 0s 2ms/step - loss: 0.3307 - accuracy: 0.8602 - val_loss: 0.3482 - val_accuracy: 0.8487\n",
      "Epoch 59/100\n",
      "200/200 [==============================] - 0s 2ms/step - loss: 0.3080 - accuracy: 0.8738 - val_loss: 0.3460 - val_accuracy: 0.8525\n",
      "Epoch 60/100\n",
      "200/200 [==============================] - 0s 2ms/step - loss: 0.3256 - accuracy: 0.8651 - val_loss: 0.3443 - val_accuracy: 0.8506\n",
      "Epoch 61/100\n",
      "200/200 [==============================] - 0s 2ms/step - loss: 0.3312 - accuracy: 0.8604 - val_loss: 0.3447 - val_accuracy: 0.8500\n",
      "Epoch 62/100\n",
      "200/200 [==============================] - 0s 2ms/step - loss: 0.3271 - accuracy: 0.8656 - val_loss: 0.3441 - val_accuracy: 0.8506\n",
      "Epoch 63/100\n",
      "200/200 [==============================] - 0s 2ms/step - loss: 0.3299 - accuracy: 0.8650 - val_loss: 0.3442 - val_accuracy: 0.8537\n",
      "Epoch 64/100\n",
      "200/200 [==============================] - 0s 2ms/step - loss: 0.3246 - accuracy: 0.8660 - val_loss: 0.3462 - val_accuracy: 0.8500\n",
      "Epoch 65/100\n",
      "200/200 [==============================] - 0s 2ms/step - loss: 0.3243 - accuracy: 0.8661 - val_loss: 0.3460 - val_accuracy: 0.8481\n",
      "Epoch 66/100\n",
      "200/200 [==============================] - 0s 2ms/step - loss: 0.3217 - accuracy: 0.8679 - val_loss: 0.3455 - val_accuracy: 0.8512\n",
      "Epoch 67/100\n",
      "200/200 [==============================] - 0s 2ms/step - loss: 0.3141 - accuracy: 0.8729 - val_loss: 0.3457 - val_accuracy: 0.8531\n",
      "Epoch 68/100\n",
      "200/200 [==============================] - 0s 2ms/step - loss: 0.3244 - accuracy: 0.8660 - val_loss: 0.3501 - val_accuracy: 0.8500\n",
      "Epoch 69/100\n",
      "200/200 [==============================] - 0s 2ms/step - loss: 0.3326 - accuracy: 0.8653 - val_loss: 0.3438 - val_accuracy: 0.8556\n",
      "Epoch 70/100\n",
      "200/200 [==============================] - 0s 2ms/step - loss: 0.3283 - accuracy: 0.8586 - val_loss: 0.3443 - val_accuracy: 0.8525\n",
      "Epoch 71/100\n",
      "200/200 [==============================] - 0s 2ms/step - loss: 0.3254 - accuracy: 0.8620 - val_loss: 0.3449 - val_accuracy: 0.8581\n",
      "Epoch 72/100\n",
      "200/200 [==============================] - 0s 2ms/step - loss: 0.3281 - accuracy: 0.8649 - val_loss: 0.3468 - val_accuracy: 0.8512\n",
      "Epoch 73/100\n",
      "200/200 [==============================] - 0s 2ms/step - loss: 0.3133 - accuracy: 0.8756 - val_loss: 0.3451 - val_accuracy: 0.8575\n",
      "Epoch 74/100\n",
      "200/200 [==============================] - 0s 2ms/step - loss: 0.3346 - accuracy: 0.8613 - val_loss: 0.3457 - val_accuracy: 0.8506\n",
      "Epoch 75/100\n",
      "200/200 [==============================] - 0s 2ms/step - loss: 0.3182 - accuracy: 0.8715 - val_loss: 0.3463 - val_accuracy: 0.8537\n",
      "Epoch 76/100\n",
      "200/200 [==============================] - 0s 2ms/step - loss: 0.3297 - accuracy: 0.8656 - val_loss: 0.3474 - val_accuracy: 0.8506\n",
      "Epoch 77/100\n",
      "200/200 [==============================] - 0s 2ms/step - loss: 0.3269 - accuracy: 0.8672 - val_loss: 0.3488 - val_accuracy: 0.8475\n",
      "Epoch 78/100\n",
      "200/200 [==============================] - 0s 2ms/step - loss: 0.3287 - accuracy: 0.8685 - val_loss: 0.3456 - val_accuracy: 0.8519\n",
      "Epoch 79/100\n",
      "200/200 [==============================] - 0s 2ms/step - loss: 0.3269 - accuracy: 0.8660 - val_loss: 0.3460 - val_accuracy: 0.8500\n",
      "Epoch 80/100\n",
      "200/200 [==============================] - 0s 2ms/step - loss: 0.3262 - accuracy: 0.8644 - val_loss: 0.3460 - val_accuracy: 0.8550\n",
      "Epoch 81/100\n",
      "200/200 [==============================] - 0s 2ms/step - loss: 0.3246 - accuracy: 0.8617 - val_loss: 0.3457 - val_accuracy: 0.8500\n",
      "Epoch 82/100\n",
      "200/200 [==============================] - 0s 2ms/step - loss: 0.3268 - accuracy: 0.8620 - val_loss: 0.3469 - val_accuracy: 0.8519\n",
      "Epoch 83/100\n",
      "200/200 [==============================] - 0s 2ms/step - loss: 0.3250 - accuracy: 0.8715 - val_loss: 0.3458 - val_accuracy: 0.8500\n",
      "Epoch 84/100\n",
      "200/200 [==============================] - 0s 2ms/step - loss: 0.3133 - accuracy: 0.8704 - val_loss: 0.3454 - val_accuracy: 0.8550\n",
      "Epoch 85/100\n",
      "200/200 [==============================] - 0s 2ms/step - loss: 0.3308 - accuracy: 0.8574 - val_loss: 0.3447 - val_accuracy: 0.8512\n",
      "Epoch 86/100\n",
      "200/200 [==============================] - 0s 2ms/step - loss: 0.3178 - accuracy: 0.8676 - val_loss: 0.3481 - val_accuracy: 0.8519\n",
      "Epoch 87/100\n",
      "200/200 [==============================] - 0s 2ms/step - loss: 0.3274 - accuracy: 0.8637 - val_loss: 0.3458 - val_accuracy: 0.8519\n",
      "Epoch 88/100\n",
      "200/200 [==============================] - 0s 2ms/step - loss: 0.3217 - accuracy: 0.8657 - val_loss: 0.3457 - val_accuracy: 0.8487\n",
      "Epoch 89/100\n",
      "200/200 [==============================] - 0s 2ms/step - loss: 0.3238 - accuracy: 0.8670 - val_loss: 0.3457 - val_accuracy: 0.8562\n",
      "Epoch 90/100\n",
      "200/200 [==============================] - 0s 2ms/step - loss: 0.3247 - accuracy: 0.8709 - val_loss: 0.3470 - val_accuracy: 0.8531\n",
      "Epoch 91/100\n",
      "200/200 [==============================] - 0s 1ms/step - loss: 0.3082 - accuracy: 0.8737 - val_loss: 0.3468 - val_accuracy: 0.8531\n",
      "Epoch 92/100\n",
      "200/200 [==============================] - 0s 1ms/step - loss: 0.3096 - accuracy: 0.8753 - val_loss: 0.3466 - val_accuracy: 0.8500\n",
      "Epoch 93/100\n",
      "200/200 [==============================] - 0s 2ms/step - loss: 0.3194 - accuracy: 0.8676 - val_loss: 0.3476 - val_accuracy: 0.8506\n",
      "Epoch 94/100\n",
      "200/200 [==============================] - 0s 1ms/step - loss: 0.3234 - accuracy: 0.8661 - val_loss: 0.3448 - val_accuracy: 0.8537\n",
      "Epoch 95/100\n",
      "200/200 [==============================] - 0s 1ms/step - loss: 0.3216 - accuracy: 0.8685 - val_loss: 0.3478 - val_accuracy: 0.8512\n",
      "Epoch 96/100\n",
      "200/200 [==============================] - 0s 1ms/step - loss: 0.3235 - accuracy: 0.8671 - val_loss: 0.3445 - val_accuracy: 0.8575\n",
      "Epoch 97/100\n",
      "200/200 [==============================] - 0s 1ms/step - loss: 0.3188 - accuracy: 0.8734 - val_loss: 0.3458 - val_accuracy: 0.8556\n",
      "Epoch 98/100\n",
      "200/200 [==============================] - 0s 1ms/step - loss: 0.3088 - accuracy: 0.8695 - val_loss: 0.3451 - val_accuracy: 0.8531\n",
      "Epoch 99/100\n",
      "200/200 [==============================] - 0s 1ms/step - loss: 0.3189 - accuracy: 0.8636 - val_loss: 0.3448 - val_accuracy: 0.8506\n",
      "Epoch 100/100\n",
      "200/200 [==============================] - 0s 1ms/step - loss: 0.3212 - accuracy: 0.8650 - val_loss: 0.3471 - val_accuracy: 0.8544\n"
     ]
    },
    {
     "data": {
      "text/plain": [
       "<tensorflow.python.keras.callbacks.History at 0x1e30796a370>"
      ]
     },
     "execution_count": 33,
     "metadata": {},
     "output_type": "execute_result"
    }
   ],
   "source": [
    "#increase epochs to 100. Add valaidation_splits paramater. Here it's 0.2. \n",
    "#(Eg: Out of 8000 customers, our model will run on 8000 - 20% customers and \n",
    "#test it with the remaining 20% to give the accuracy. This is a very good standard to validate your model performance)\n",
    "\n",
    "#Note: Our end goal is to reduce the loss and increase the accuracy\n",
    "#IMP NOTE:Acuuracy of both training and validation set hsould increase gradually. \n",
    "#If only training accuracy is increasing and validation acuuracy is stagnant, then it is a case of overfitting\n",
    "\n",
    "model.fit(X_train_scaled, y_train, epochs=100, validation_split=0.2)"
   ]
  },
  {
   "cell_type": "code",
   "execution_count": 34,
   "metadata": {},
   "outputs": [],
   "source": [
    "#Optional to get every layers weights\n",
    "\n",
    "#model.layers[0].get_weights()\n",
    "#model.layers[1].get_weights()\n",
    "#model.layers[2].get_weights()"
   ]
  },
  {
   "cell_type": "code",
   "execution_count": 35,
   "metadata": {},
   "outputs": [],
   "source": [
    "y_log = model.predict(X_test_scaled)"
   ]
  },
  {
   "cell_type": "code",
   "execution_count": 36,
   "metadata": {},
   "outputs": [],
   "source": [
    "y_pred = np.where(y_log > 0.5, 1, 0)"
   ]
  },
  {
   "cell_type": "code",
   "execution_count": 37,
   "metadata": {},
   "outputs": [
    {
     "data": {
      "text/plain": [
       "0.8595"
      ]
     },
     "execution_count": 37,
     "metadata": {},
     "output_type": "execute_result"
    }
   ],
   "source": [
    "accuracy_score(y_test, y_pred)"
   ]
  },
  {
   "cell_type": "markdown",
   "metadata": {},
   "source": [
    "## Step 9: Plotting and checking loss and accuracy"
   ]
  },
  {
   "cell_type": "code",
   "execution_count": 38,
   "metadata": {},
   "outputs": [
    {
     "name": "stdout",
     "output_type": "stream",
     "text": [
      "Epoch 1/100\n",
      "200/200 [==============================] - 0s 2ms/step - loss: 0.3233 - accuracy: 0.8645 - val_loss: 0.3446 - val_accuracy: 0.8544\n",
      "Epoch 2/100\n",
      "200/200 [==============================] - 0s 1ms/step - loss: 0.3228 - accuracy: 0.8678 - val_loss: 0.3467 - val_accuracy: 0.8537\n",
      "Epoch 3/100\n",
      "200/200 [==============================] - 0s 1ms/step - loss: 0.3230 - accuracy: 0.8669 - val_loss: 0.3461 - val_accuracy: 0.8550\n",
      "Epoch 4/100\n",
      "200/200 [==============================] - 0s 1ms/step - loss: 0.3231 - accuracy: 0.8672 - val_loss: 0.3449 - val_accuracy: 0.8569\n",
      "Epoch 5/100\n",
      "200/200 [==============================] - 0s 1ms/step - loss: 0.3232 - accuracy: 0.8658 - val_loss: 0.3459 - val_accuracy: 0.8544\n",
      "Epoch 6/100\n",
      "200/200 [==============================] - 0s 1ms/step - loss: 0.3230 - accuracy: 0.8684 - val_loss: 0.3446 - val_accuracy: 0.8537\n",
      "Epoch 7/100\n",
      "200/200 [==============================] - 0s 2ms/step - loss: 0.3233 - accuracy: 0.8650 - val_loss: 0.3453 - val_accuracy: 0.8519\n",
      "Epoch 8/100\n",
      "200/200 [==============================] - 0s 1ms/step - loss: 0.3226 - accuracy: 0.8664 - val_loss: 0.3450 - val_accuracy: 0.8512\n",
      "Epoch 9/100\n",
      "200/200 [==============================] - 0s 1ms/step - loss: 0.3226 - accuracy: 0.8664 - val_loss: 0.3442 - val_accuracy: 0.8544\n",
      "Epoch 10/100\n",
      "200/200 [==============================] - 0s 1ms/step - loss: 0.3225 - accuracy: 0.8664 - val_loss: 0.3480 - val_accuracy: 0.8494\n",
      "Epoch 11/100\n",
      "200/200 [==============================] - 0s 1ms/step - loss: 0.3233 - accuracy: 0.8652 - val_loss: 0.3472 - val_accuracy: 0.8550\n",
      "Epoch 12/100\n",
      "200/200 [==============================] - 0s 1ms/step - loss: 0.3223 - accuracy: 0.8666 - val_loss: 0.3461 - val_accuracy: 0.8550\n",
      "Epoch 13/100\n",
      "200/200 [==============================] - 0s 1ms/step - loss: 0.3229 - accuracy: 0.8653 - val_loss: 0.3448 - val_accuracy: 0.8525\n",
      "Epoch 14/100\n",
      "200/200 [==============================] - 0s 1ms/step - loss: 0.3230 - accuracy: 0.8661 - val_loss: 0.3458 - val_accuracy: 0.8550\n",
      "Epoch 15/100\n",
      "200/200 [==============================] - 0s 1ms/step - loss: 0.3225 - accuracy: 0.8658 - val_loss: 0.3473 - val_accuracy: 0.8531\n",
      "Epoch 16/100\n",
      "200/200 [==============================] - 0s 1ms/step - loss: 0.3224 - accuracy: 0.8647 - val_loss: 0.3460 - val_accuracy: 0.8525\n",
      "Epoch 17/100\n",
      "200/200 [==============================] - 0s 1ms/step - loss: 0.3218 - accuracy: 0.8648 - val_loss: 0.3488 - val_accuracy: 0.8487\n",
      "Epoch 18/100\n",
      "200/200 [==============================] - 0s 1ms/step - loss: 0.3221 - accuracy: 0.8661 - val_loss: 0.3509 - val_accuracy: 0.8519\n",
      "Epoch 19/100\n",
      "200/200 [==============================] - 0s 1ms/step - loss: 0.3223 - accuracy: 0.8680 - val_loss: 0.3455 - val_accuracy: 0.8544\n",
      "Epoch 20/100\n",
      "200/200 [==============================] - 0s 1ms/step - loss: 0.3222 - accuracy: 0.8664 - val_loss: 0.3480 - val_accuracy: 0.8506\n",
      "Epoch 21/100\n",
      "200/200 [==============================] - 0s 1ms/step - loss: 0.3215 - accuracy: 0.8681 - val_loss: 0.3447 - val_accuracy: 0.8537\n",
      "Epoch 22/100\n",
      "200/200 [==============================] - 0s 1ms/step - loss: 0.3217 - accuracy: 0.8644 - val_loss: 0.3460 - val_accuracy: 0.8494\n",
      "Epoch 23/100\n",
      "200/200 [==============================] - 0s 1ms/step - loss: 0.3219 - accuracy: 0.8661 - val_loss: 0.3454 - val_accuracy: 0.8550\n",
      "Epoch 24/100\n",
      "200/200 [==============================] - 0s 1ms/step - loss: 0.3213 - accuracy: 0.8662 - val_loss: 0.3476 - val_accuracy: 0.8537\n",
      "Epoch 25/100\n",
      "200/200 [==============================] - 0s 1ms/step - loss: 0.3222 - accuracy: 0.8634 - val_loss: 0.3458 - val_accuracy: 0.8519\n",
      "Epoch 26/100\n",
      "200/200 [==============================] - 0s 1ms/step - loss: 0.3214 - accuracy: 0.8664 - val_loss: 0.3478 - val_accuracy: 0.8525\n",
      "Epoch 27/100\n",
      "200/200 [==============================] - 0s 1ms/step - loss: 0.3217 - accuracy: 0.8658 - val_loss: 0.3456 - val_accuracy: 0.8550\n",
      "Epoch 28/100\n",
      "200/200 [==============================] - 0s 1ms/step - loss: 0.3214 - accuracy: 0.8669 - val_loss: 0.3493 - val_accuracy: 0.8506\n",
      "Epoch 29/100\n",
      "200/200 [==============================] - 0s 1ms/step - loss: 0.3209 - accuracy: 0.8686 - val_loss: 0.3498 - val_accuracy: 0.8519\n",
      "Epoch 30/100\n",
      "200/200 [==============================] - 0s 1ms/step - loss: 0.3216 - accuracy: 0.8666 - val_loss: 0.3472 - val_accuracy: 0.8519\n",
      "Epoch 31/100\n",
      "200/200 [==============================] - 0s 1ms/step - loss: 0.3215 - accuracy: 0.8678 - val_loss: 0.3472 - val_accuracy: 0.8531\n",
      "Epoch 32/100\n",
      "200/200 [==============================] - 0s 1ms/step - loss: 0.3212 - accuracy: 0.8664 - val_loss: 0.3472 - val_accuracy: 0.8494\n",
      "Epoch 33/100\n",
      "200/200 [==============================] - 0s 1ms/step - loss: 0.3215 - accuracy: 0.8664 - val_loss: 0.3459 - val_accuracy: 0.8519\n",
      "Epoch 34/100\n",
      "200/200 [==============================] - 0s 1ms/step - loss: 0.3215 - accuracy: 0.8673 - val_loss: 0.3521 - val_accuracy: 0.8525\n",
      "Epoch 35/100\n",
      "200/200 [==============================] - 0s 1ms/step - loss: 0.3205 - accuracy: 0.8655 - val_loss: 0.3494 - val_accuracy: 0.8562\n",
      "Epoch 36/100\n",
      "200/200 [==============================] - 0s 1ms/step - loss: 0.3210 - accuracy: 0.8672 - val_loss: 0.3463 - val_accuracy: 0.8537\n",
      "Epoch 37/100\n",
      "200/200 [==============================] - 0s 1ms/step - loss: 0.3209 - accuracy: 0.8666 - val_loss: 0.3459 - val_accuracy: 0.8519\n",
      "Epoch 38/100\n",
      "200/200 [==============================] - 0s 1ms/step - loss: 0.3205 - accuracy: 0.8680 - val_loss: 0.3460 - val_accuracy: 0.8500\n",
      "Epoch 39/100\n",
      "200/200 [==============================] - 0s 1ms/step - loss: 0.3206 - accuracy: 0.8686 - val_loss: 0.3483 - val_accuracy: 0.8531\n",
      "Epoch 40/100\n",
      "200/200 [==============================] - 0s 1ms/step - loss: 0.3209 - accuracy: 0.8667 - val_loss: 0.3461 - val_accuracy: 0.8506\n",
      "Epoch 41/100\n",
      "200/200 [==============================] - 0s 1ms/step - loss: 0.3205 - accuracy: 0.8664 - val_loss: 0.3470 - val_accuracy: 0.8525\n",
      "Epoch 42/100\n",
      "200/200 [==============================] - 0s 1ms/step - loss: 0.3207 - accuracy: 0.8667 - val_loss: 0.3459 - val_accuracy: 0.8537\n",
      "Epoch 43/100\n",
      "200/200 [==============================] - 0s 1ms/step - loss: 0.3210 - accuracy: 0.8681 - val_loss: 0.3467 - val_accuracy: 0.8519\n",
      "Epoch 44/100\n",
      "200/200 [==============================] - 0s 1ms/step - loss: 0.3205 - accuracy: 0.8678 - val_loss: 0.3455 - val_accuracy: 0.8550\n",
      "Epoch 45/100\n",
      "200/200 [==============================] - 0s 1ms/step - loss: 0.3207 - accuracy: 0.8681 - val_loss: 0.3468 - val_accuracy: 0.8531\n",
      "Epoch 46/100\n",
      "200/200 [==============================] - 0s 1ms/step - loss: 0.3208 - accuracy: 0.8652 - val_loss: 0.3458 - val_accuracy: 0.8531\n",
      "Epoch 47/100\n",
      "200/200 [==============================] - 0s 1ms/step - loss: 0.3204 - accuracy: 0.8675 - val_loss: 0.3490 - val_accuracy: 0.8500\n",
      "Epoch 48/100\n",
      "200/200 [==============================] - 0s 1ms/step - loss: 0.3201 - accuracy: 0.8678 - val_loss: 0.3480 - val_accuracy: 0.8544\n",
      "Epoch 49/100\n",
      "200/200 [==============================] - 0s 1ms/step - loss: 0.3200 - accuracy: 0.8677 - val_loss: 0.3472 - val_accuracy: 0.8556\n",
      "Epoch 50/100\n",
      "200/200 [==============================] - 0s 1ms/step - loss: 0.3202 - accuracy: 0.8677 - val_loss: 0.3483 - val_accuracy: 0.8544\n",
      "Epoch 51/100\n",
      "200/200 [==============================] - 0s 2ms/step - loss: 0.3201 - accuracy: 0.8692 - val_loss: 0.3465 - val_accuracy: 0.8519\n",
      "Epoch 52/100\n",
      "200/200 [==============================] - 0s 1ms/step - loss: 0.3197 - accuracy: 0.8673 - val_loss: 0.3485 - val_accuracy: 0.8500\n",
      "Epoch 53/100\n",
      "200/200 [==============================] - 0s 2ms/step - loss: 0.3196 - accuracy: 0.8675 - val_loss: 0.3466 - val_accuracy: 0.8550\n",
      "Epoch 54/100\n",
      "200/200 [==============================] - 0s 2ms/step - loss: 0.3195 - accuracy: 0.8659 - val_loss: 0.3471 - val_accuracy: 0.8531\n",
      "Epoch 55/100\n",
      "200/200 [==============================] - 0s 2ms/step - loss: 0.3198 - accuracy: 0.8664 - val_loss: 0.3478 - val_accuracy: 0.8506\n",
      "Epoch 56/100\n",
      "200/200 [==============================] - 0s 2ms/step - loss: 0.3191 - accuracy: 0.8673 - val_loss: 0.3475 - val_accuracy: 0.8531\n",
      "Epoch 57/100\n",
      "200/200 [==============================] - 0s 2ms/step - loss: 0.3191 - accuracy: 0.8673 - val_loss: 0.3472 - val_accuracy: 0.8531\n"
     ]
    },
    {
     "name": "stdout",
     "output_type": "stream",
     "text": [
      "Epoch 58/100\n",
      "200/200 [==============================] - 0s 2ms/step - loss: 0.3194 - accuracy: 0.8684 - val_loss: 0.3476 - val_accuracy: 0.8550\n",
      "Epoch 59/100\n",
      "200/200 [==============================] - 0s 2ms/step - loss: 0.3193 - accuracy: 0.8680 - val_loss: 0.3485 - val_accuracy: 0.8556\n",
      "Epoch 60/100\n",
      "200/200 [==============================] - 0s 2ms/step - loss: 0.3194 - accuracy: 0.8662 - val_loss: 0.3479 - val_accuracy: 0.8506\n",
      "Epoch 61/100\n",
      "200/200 [==============================] - 0s 2ms/step - loss: 0.3195 - accuracy: 0.8686 - val_loss: 0.3473 - val_accuracy: 0.8519\n",
      "Epoch 62/100\n",
      "200/200 [==============================] - 0s 2ms/step - loss: 0.3193 - accuracy: 0.8659 - val_loss: 0.3471 - val_accuracy: 0.8550\n",
      "Epoch 63/100\n",
      "200/200 [==============================] - 0s 2ms/step - loss: 0.3188 - accuracy: 0.8705 - val_loss: 0.3482 - val_accuracy: 0.8537\n",
      "Epoch 64/100\n",
      "200/200 [==============================] - 0s 2ms/step - loss: 0.3197 - accuracy: 0.8695 - val_loss: 0.3480 - val_accuracy: 0.8531\n",
      "Epoch 65/100\n",
      "200/200 [==============================] - 0s 2ms/step - loss: 0.3199 - accuracy: 0.8677 - val_loss: 0.3467 - val_accuracy: 0.8531\n",
      "Epoch 66/100\n",
      "200/200 [==============================] - 0s 2ms/step - loss: 0.3191 - accuracy: 0.8683 - val_loss: 0.3466 - val_accuracy: 0.8550\n",
      "Epoch 67/100\n",
      "200/200 [==============================] - 0s 2ms/step - loss: 0.3189 - accuracy: 0.8675 - val_loss: 0.3477 - val_accuracy: 0.8487\n",
      "Epoch 68/100\n",
      "200/200 [==============================] - 0s 2ms/step - loss: 0.3187 - accuracy: 0.8689 - val_loss: 0.3483 - val_accuracy: 0.8519\n",
      "Epoch 69/100\n",
      "200/200 [==============================] - 0s 2ms/step - loss: 0.3195 - accuracy: 0.8687 - val_loss: 0.3468 - val_accuracy: 0.8544\n",
      "Epoch 70/100\n",
      "200/200 [==============================] - 0s 2ms/step - loss: 0.3182 - accuracy: 0.8694 - val_loss: 0.3467 - val_accuracy: 0.8525\n",
      "Epoch 71/100\n",
      "200/200 [==============================] - 0s 2ms/step - loss: 0.3187 - accuracy: 0.8683 - val_loss: 0.3469 - val_accuracy: 0.8544\n",
      "Epoch 72/100\n",
      "200/200 [==============================] - 0s 2ms/step - loss: 0.3189 - accuracy: 0.8677 - val_loss: 0.3489 - val_accuracy: 0.8512\n",
      "Epoch 73/100\n",
      "200/200 [==============================] - 0s 2ms/step - loss: 0.3180 - accuracy: 0.8697 - val_loss: 0.3470 - val_accuracy: 0.8550\n",
      "Epoch 74/100\n",
      "200/200 [==============================] - 0s 2ms/step - loss: 0.3183 - accuracy: 0.8669 - val_loss: 0.3467 - val_accuracy: 0.8519\n",
      "Epoch 75/100\n",
      "200/200 [==============================] - 0s 2ms/step - loss: 0.3182 - accuracy: 0.8694 - val_loss: 0.3478 - val_accuracy: 0.8506\n",
      "Epoch 76/100\n",
      "200/200 [==============================] - 0s 2ms/step - loss: 0.3183 - accuracy: 0.8673 - val_loss: 0.3477 - val_accuracy: 0.8519\n",
      "Epoch 77/100\n",
      "200/200 [==============================] - 0s 1ms/step - loss: 0.3186 - accuracy: 0.8689 - val_loss: 0.3466 - val_accuracy: 0.8525\n",
      "Epoch 78/100\n",
      "200/200 [==============================] - 0s 2ms/step - loss: 0.3182 - accuracy: 0.8672 - val_loss: 0.3463 - val_accuracy: 0.8525\n",
      "Epoch 79/100\n",
      "200/200 [==============================] - 0s 2ms/step - loss: 0.3186 - accuracy: 0.8677 - val_loss: 0.3493 - val_accuracy: 0.8487\n",
      "Epoch 80/100\n",
      "200/200 [==============================] - 0s 2ms/step - loss: 0.3185 - accuracy: 0.8686 - val_loss: 0.3470 - val_accuracy: 0.8506\n",
      "Epoch 81/100\n",
      "200/200 [==============================] - 0s 2ms/step - loss: 0.3183 - accuracy: 0.8680 - val_loss: 0.3466 - val_accuracy: 0.8519\n",
      "Epoch 82/100\n",
      "200/200 [==============================] - 0s 2ms/step - loss: 0.3177 - accuracy: 0.8684 - val_loss: 0.3481 - val_accuracy: 0.8512\n",
      "Epoch 83/100\n",
      "200/200 [==============================] - 0s 2ms/step - loss: 0.3181 - accuracy: 0.8683 - val_loss: 0.3475 - val_accuracy: 0.8506\n",
      "Epoch 84/100\n",
      "200/200 [==============================] - 0s 2ms/step - loss: 0.3179 - accuracy: 0.8681 - val_loss: 0.3468 - val_accuracy: 0.8512\n",
      "Epoch 85/100\n",
      "200/200 [==============================] - 0s 2ms/step - loss: 0.3182 - accuracy: 0.8678 - val_loss: 0.3488 - val_accuracy: 0.8525\n",
      "Epoch 86/100\n",
      "200/200 [==============================] - 0s 2ms/step - loss: 0.3172 - accuracy: 0.8698 - val_loss: 0.3476 - val_accuracy: 0.8519\n",
      "Epoch 87/100\n",
      "200/200 [==============================] - 0s 2ms/step - loss: 0.3179 - accuracy: 0.8687 - val_loss: 0.3459 - val_accuracy: 0.8544\n",
      "Epoch 88/100\n",
      "200/200 [==============================] - 0s 2ms/step - loss: 0.3180 - accuracy: 0.8689 - val_loss: 0.3479 - val_accuracy: 0.8500\n",
      "Epoch 89/100\n",
      "200/200 [==============================] - 0s 2ms/step - loss: 0.3175 - accuracy: 0.8675 - val_loss: 0.3469 - val_accuracy: 0.8544\n",
      "Epoch 90/100\n",
      "200/200 [==============================] - 0s 2ms/step - loss: 0.3168 - accuracy: 0.8703 - val_loss: 0.3498 - val_accuracy: 0.8481\n",
      "Epoch 91/100\n",
      "200/200 [==============================] - 0s 2ms/step - loss: 0.3172 - accuracy: 0.8705 - val_loss: 0.3475 - val_accuracy: 0.8512\n",
      "Epoch 92/100\n",
      "200/200 [==============================] - 0s 2ms/step - loss: 0.3172 - accuracy: 0.8709 - val_loss: 0.3514 - val_accuracy: 0.8500\n",
      "Epoch 93/100\n",
      "200/200 [==============================] - 0s 2ms/step - loss: 0.3171 - accuracy: 0.8691 - val_loss: 0.3465 - val_accuracy: 0.8512\n",
      "Epoch 94/100\n",
      "200/200 [==============================] - 0s 2ms/step - loss: 0.3176 - accuracy: 0.8695 - val_loss: 0.3469 - val_accuracy: 0.8512\n",
      "Epoch 95/100\n",
      "200/200 [==============================] - 0s 2ms/step - loss: 0.3174 - accuracy: 0.8681 - val_loss: 0.3480 - val_accuracy: 0.8500\n",
      "Epoch 96/100\n",
      "200/200 [==============================] - 0s 2ms/step - loss: 0.3170 - accuracy: 0.8700 - val_loss: 0.3496 - val_accuracy: 0.8519\n",
      "Epoch 97/100\n",
      "200/200 [==============================] - 0s 2ms/step - loss: 0.3173 - accuracy: 0.8681 - val_loss: 0.3457 - val_accuracy: 0.8550\n",
      "Epoch 98/100\n",
      "200/200 [==============================] - 0s 2ms/step - loss: 0.3170 - accuracy: 0.8703 - val_loss: 0.3463 - val_accuracy: 0.8544\n",
      "Epoch 99/100\n",
      "200/200 [==============================] - 0s 2ms/step - loss: 0.3180 - accuracy: 0.8700 - val_loss: 0.3464 - val_accuracy: 0.8562\n",
      "Epoch 100/100\n",
      "200/200 [==============================] - 0s 2ms/step - loss: 0.3166 - accuracy: 0.8709 - val_loss: 0.3466 - val_accuracy: 0.8550\n"
     ]
    }
   ],
   "source": [
    "#we can directly update the previous code. This is for demo purpose\n",
    "\n",
    "#creating history object to store training and validation (of epochs) data\n",
    "\n",
    "history = model.fit(X_train_scaled, y_train, epochs=100, validation_split=0.2)"
   ]
  },
  {
   "cell_type": "code",
   "execution_count": 39,
   "metadata": {},
   "outputs": [
    {
     "data": {
      "text/plain": [
       "{'loss': [0.323343425989151,\n",
       "  0.32282349467277527,\n",
       "  0.3230467736721039,\n",
       "  0.3231041431427002,\n",
       "  0.3231522738933563,\n",
       "  0.3230046331882477,\n",
       "  0.32327234745025635,\n",
       "  0.3225947916507721,\n",
       "  0.32261696457862854,\n",
       "  0.32250645756721497,\n",
       "  0.3233349323272705,\n",
       "  0.3222979009151459,\n",
       "  0.32291197776794434,\n",
       "  0.3229812979698181,\n",
       "  0.3224606215953827,\n",
       "  0.32239586114883423,\n",
       "  0.32176971435546875,\n",
       "  0.3220667243003845,\n",
       "  0.32225337624549866,\n",
       "  0.3222219944000244,\n",
       "  0.3214552402496338,\n",
       "  0.32168829441070557,\n",
       "  0.32192084193229675,\n",
       "  0.3213273584842682,\n",
       "  0.32224714756011963,\n",
       "  0.32144683599472046,\n",
       "  0.32167530059814453,\n",
       "  0.32136285305023193,\n",
       "  0.3209448754787445,\n",
       "  0.32162487506866455,\n",
       "  0.3214748501777649,\n",
       "  0.3211897909641266,\n",
       "  0.32154151797294617,\n",
       "  0.3215201199054718,\n",
       "  0.32052984833717346,\n",
       "  0.32101622223854065,\n",
       "  0.3209088444709778,\n",
       "  0.3205244541168213,\n",
       "  0.3205585777759552,\n",
       "  0.32087746262550354,\n",
       "  0.3204915523529053,\n",
       "  0.32069942355155945,\n",
       "  0.32096171379089355,\n",
       "  0.32049477100372314,\n",
       "  0.32068127393722534,\n",
       "  0.3208277225494385,\n",
       "  0.320446252822876,\n",
       "  0.32010719180107117,\n",
       "  0.3200434446334839,\n",
       "  0.32015255093574524,\n",
       "  0.3200558125972748,\n",
       "  0.3196592926979065,\n",
       "  0.3195500075817108,\n",
       "  0.31946226954460144,\n",
       "  0.3198210597038269,\n",
       "  0.3191247880458832,\n",
       "  0.3190899193286896,\n",
       "  0.31936439871788025,\n",
       "  0.3192809224128723,\n",
       "  0.3193695545196533,\n",
       "  0.31946200132369995,\n",
       "  0.31927651166915894,\n",
       "  0.3188001811504364,\n",
       "  0.31968966126441956,\n",
       "  0.3198811411857605,\n",
       "  0.31912627816200256,\n",
       "  0.31893718242645264,\n",
       "  0.3187364339828491,\n",
       "  0.31945496797561646,\n",
       "  0.3182370066642761,\n",
       "  0.31866636872291565,\n",
       "  0.3189452290534973,\n",
       "  0.317961186170578,\n",
       "  0.3182661831378937,\n",
       "  0.31822964549064636,\n",
       "  0.31826460361480713,\n",
       "  0.31862369179725647,\n",
       "  0.3181988596916199,\n",
       "  0.3186373710632324,\n",
       "  0.3185235857963562,\n",
       "  0.31831806898117065,\n",
       "  0.3176707923412323,\n",
       "  0.3180755376815796,\n",
       "  0.3178894817829132,\n",
       "  0.318223774433136,\n",
       "  0.31721603870391846,\n",
       "  0.31794700026512146,\n",
       "  0.3179674446582794,\n",
       "  0.3175422251224518,\n",
       "  0.3167598247528076,\n",
       "  0.3172041177749634,\n",
       "  0.3172127902507782,\n",
       "  0.3170904219150543,\n",
       "  0.3175618052482605,\n",
       "  0.31741321086883545,\n",
       "  0.3169805407524109,\n",
       "  0.3173488974571228,\n",
       "  0.31701430678367615,\n",
       "  0.31799018383026123,\n",
       "  0.316644549369812],\n",
       " 'accuracy': [0.8645312786102295,\n",
       "  0.8678125143051147,\n",
       "  0.8668749928474426,\n",
       "  0.8671875,\n",
       "  0.8657812476158142,\n",
       "  0.8684375286102295,\n",
       "  0.8650000095367432,\n",
       "  0.866406261920929,\n",
       "  0.866406261920929,\n",
       "  0.866406261920929,\n",
       "  0.8651562333106995,\n",
       "  0.8665624856948853,\n",
       "  0.8653125166893005,\n",
       "  0.8660937547683716,\n",
       "  0.8657812476158142,\n",
       "  0.8646875023841858,\n",
       "  0.8648437261581421,\n",
       "  0.8660937547683716,\n",
       "  0.867968738079071,\n",
       "  0.866406261920929,\n",
       "  0.8681250214576721,\n",
       "  0.8643749952316284,\n",
       "  0.8660937547683716,\n",
       "  0.8662499785423279,\n",
       "  0.8634374737739563,\n",
       "  0.866406261920929,\n",
       "  0.8657812476158142,\n",
       "  0.8668749928474426,\n",
       "  0.8685937523841858,\n",
       "  0.8665624856948853,\n",
       "  0.8678125143051147,\n",
       "  0.866406261920929,\n",
       "  0.866406261920929,\n",
       "  0.8673437237739563,\n",
       "  0.8654687404632568,\n",
       "  0.8671875,\n",
       "  0.8665624856948853,\n",
       "  0.867968738079071,\n",
       "  0.8685937523841858,\n",
       "  0.8667187690734863,\n",
       "  0.866406261920929,\n",
       "  0.8667187690734863,\n",
       "  0.8681250214576721,\n",
       "  0.8678125143051147,\n",
       "  0.8681250214576721,\n",
       "  0.8651562333106995,\n",
       "  0.8675000071525574,\n",
       "  0.8678125143051147,\n",
       "  0.8676562309265137,\n",
       "  0.8676562309265137,\n",
       "  0.8692187666893005,\n",
       "  0.8673437237739563,\n",
       "  0.8675000071525574,\n",
       "  0.8659374713897705,\n",
       "  0.866406261920929,\n",
       "  0.8673437237739563,\n",
       "  0.8673437237739563,\n",
       "  0.8684375286102295,\n",
       "  0.867968738079071,\n",
       "  0.8662499785423279,\n",
       "  0.8685937523841858,\n",
       "  0.8659374713897705,\n",
       "  0.8704687356948853,\n",
       "  0.8695312738418579,\n",
       "  0.8676562309265137,\n",
       "  0.8682812452316284,\n",
       "  0.8675000071525574,\n",
       "  0.8689062595367432,\n",
       "  0.8687499761581421,\n",
       "  0.8693749904632568,\n",
       "  0.8682812452316284,\n",
       "  0.8676562309265137,\n",
       "  0.8696874976158142,\n",
       "  0.8668749928474426,\n",
       "  0.8693749904632568,\n",
       "  0.8673437237739563,\n",
       "  0.8689062595367432,\n",
       "  0.8671875,\n",
       "  0.8676562309265137,\n",
       "  0.8685937523841858,\n",
       "  0.867968738079071,\n",
       "  0.8684375286102295,\n",
       "  0.8682812452316284,\n",
       "  0.8681250214576721,\n",
       "  0.8678125143051147,\n",
       "  0.8698437213897705,\n",
       "  0.8687499761581421,\n",
       "  0.8689062595367432,\n",
       "  0.8675000071525574,\n",
       "  0.870312511920929,\n",
       "  0.8704687356948853,\n",
       "  0.8709375262260437,\n",
       "  0.8690624833106995,\n",
       "  0.8695312738418579,\n",
       "  0.8681250214576721,\n",
       "  0.8700000047683716,\n",
       "  0.8681250214576721,\n",
       "  0.870312511920929,\n",
       "  0.8700000047683716,\n",
       "  0.8709375262260437],\n",
       " 'val_loss': [0.34464359283447266,\n",
       "  0.34672462940216064,\n",
       "  0.34606999158859253,\n",
       "  0.34485164284706116,\n",
       "  0.34594932198524475,\n",
       "  0.3445870876312256,\n",
       "  0.3452538251876831,\n",
       "  0.34498676657676697,\n",
       "  0.3442113399505615,\n",
       "  0.3480297327041626,\n",
       "  0.347228080034256,\n",
       "  0.34605976939201355,\n",
       "  0.34480881690979004,\n",
       "  0.34576043486595154,\n",
       "  0.3472898602485657,\n",
       "  0.345973402261734,\n",
       "  0.34875327348709106,\n",
       "  0.3509376645088196,\n",
       "  0.345467746257782,\n",
       "  0.3479654788970947,\n",
       "  0.3446512520313263,\n",
       "  0.3459979295730591,\n",
       "  0.34537217020988464,\n",
       "  0.3476032018661499,\n",
       "  0.3458261489868164,\n",
       "  0.3477708399295807,\n",
       "  0.3456365168094635,\n",
       "  0.3492538332939148,\n",
       "  0.34980735182762146,\n",
       "  0.3472402095794678,\n",
       "  0.34722569584846497,\n",
       "  0.3472474217414856,\n",
       "  0.3458903133869171,\n",
       "  0.3521176278591156,\n",
       "  0.34936538338661194,\n",
       "  0.34625720977783203,\n",
       "  0.3459235727787018,\n",
       "  0.34597814083099365,\n",
       "  0.3482719659805298,\n",
       "  0.3461209237575531,\n",
       "  0.34698933362960815,\n",
       "  0.34586769342422485,\n",
       "  0.34672605991363525,\n",
       "  0.3454851806163788,\n",
       "  0.3467734456062317,\n",
       "  0.34578636288642883,\n",
       "  0.34902653098106384,\n",
       "  0.348038911819458,\n",
       "  0.3472468852996826,\n",
       "  0.34825703501701355,\n",
       "  0.34648486971855164,\n",
       "  0.3484727144241333,\n",
       "  0.34663572907447815,\n",
       "  0.34707555174827576,\n",
       "  0.3478059470653534,\n",
       "  0.34752047061920166,\n",
       "  0.34718048572540283,\n",
       "  0.34758445620536804,\n",
       "  0.3485049307346344,\n",
       "  0.3479122817516327,\n",
       "  0.34733837842941284,\n",
       "  0.34709906578063965,\n",
       "  0.34820476174354553,\n",
       "  0.34799572825431824,\n",
       "  0.34671837091445923,\n",
       "  0.3465910255908966,\n",
       "  0.34766197204589844,\n",
       "  0.34826308488845825,\n",
       "  0.3468097448348999,\n",
       "  0.34665489196777344,\n",
       "  0.3468850255012512,\n",
       "  0.3488668203353882,\n",
       "  0.3470379114151001,\n",
       "  0.346710741519928,\n",
       "  0.3477560877799988,\n",
       "  0.34771430492401123,\n",
       "  0.3465937077999115,\n",
       "  0.3462742269039154,\n",
       "  0.3492935597896576,\n",
       "  0.346957802772522,\n",
       "  0.34655800461769104,\n",
       "  0.3480580449104309,\n",
       "  0.3474560081958771,\n",
       "  0.34684520959854126,\n",
       "  0.3488425016403198,\n",
       "  0.34756365418434143,\n",
       "  0.34591007232666016,\n",
       "  0.3478766977787018,\n",
       "  0.34685513377189636,\n",
       "  0.34978148341178894,\n",
       "  0.3475496172904968,\n",
       "  0.3514294922351837,\n",
       "  0.3465386629104614,\n",
       "  0.3469291627407074,\n",
       "  0.34800294041633606,\n",
       "  0.34961915016174316,\n",
       "  0.3457484841346741,\n",
       "  0.34629398584365845,\n",
       "  0.3463854491710663,\n",
       "  0.3466121554374695],\n",
       " 'val_accuracy': [0.8543750047683716,\n",
       "  0.8537499904632568,\n",
       "  0.8550000190734863,\n",
       "  0.8568750023841858,\n",
       "  0.8543750047683716,\n",
       "  0.8537499904632568,\n",
       "  0.8518750071525574,\n",
       "  0.8512499928474426,\n",
       "  0.8543750047683716,\n",
       "  0.8493750095367432,\n",
       "  0.8550000190734863,\n",
       "  0.8550000190734863,\n",
       "  0.8525000214576721,\n",
       "  0.8550000190734863,\n",
       "  0.8531249761581421,\n",
       "  0.8525000214576721,\n",
       "  0.8487499952316284,\n",
       "  0.8518750071525574,\n",
       "  0.8543750047683716,\n",
       "  0.8506249785423279,\n",
       "  0.8537499904632568,\n",
       "  0.8493750095367432,\n",
       "  0.8550000190734863,\n",
       "  0.8537499904632568,\n",
       "  0.8518750071525574,\n",
       "  0.8525000214576721,\n",
       "  0.8550000190734863,\n",
       "  0.8506249785423279,\n",
       "  0.8518750071525574,\n",
       "  0.8518750071525574,\n",
       "  0.8531249761581421,\n",
       "  0.8493750095367432,\n",
       "  0.8518750071525574,\n",
       "  0.8525000214576721,\n",
       "  0.856249988079071,\n",
       "  0.8537499904632568,\n",
       "  0.8518750071525574,\n",
       "  0.8500000238418579,\n",
       "  0.8531249761581421,\n",
       "  0.8506249785423279,\n",
       "  0.8525000214576721,\n",
       "  0.8537499904632568,\n",
       "  0.8518750071525574,\n",
       "  0.8550000190734863,\n",
       "  0.8531249761581421,\n",
       "  0.8531249761581421,\n",
       "  0.8500000238418579,\n",
       "  0.8543750047683716,\n",
       "  0.8556249737739563,\n",
       "  0.8543750047683716,\n",
       "  0.8518750071525574,\n",
       "  0.8500000238418579,\n",
       "  0.8550000190734863,\n",
       "  0.8531249761581421,\n",
       "  0.8506249785423279,\n",
       "  0.8531249761581421,\n",
       "  0.8531249761581421,\n",
       "  0.8550000190734863,\n",
       "  0.8556249737739563,\n",
       "  0.8506249785423279,\n",
       "  0.8518750071525574,\n",
       "  0.8550000190734863,\n",
       "  0.8537499904632568,\n",
       "  0.8531249761581421,\n",
       "  0.8531249761581421,\n",
       "  0.8550000190734863,\n",
       "  0.8487499952316284,\n",
       "  0.8518750071525574,\n",
       "  0.8543750047683716,\n",
       "  0.8525000214576721,\n",
       "  0.8543750047683716,\n",
       "  0.8512499928474426,\n",
       "  0.8550000190734863,\n",
       "  0.8518750071525574,\n",
       "  0.8506249785423279,\n",
       "  0.8518750071525574,\n",
       "  0.8525000214576721,\n",
       "  0.8525000214576721,\n",
       "  0.8487499952316284,\n",
       "  0.8506249785423279,\n",
       "  0.8518750071525574,\n",
       "  0.8512499928474426,\n",
       "  0.8506249785423279,\n",
       "  0.8512499928474426,\n",
       "  0.8525000214576721,\n",
       "  0.8518750071525574,\n",
       "  0.8543750047683716,\n",
       "  0.8500000238418579,\n",
       "  0.8543750047683716,\n",
       "  0.8481249809265137,\n",
       "  0.8512499928474426,\n",
       "  0.8500000238418579,\n",
       "  0.8512499928474426,\n",
       "  0.8512499928474426,\n",
       "  0.8500000238418579,\n",
       "  0.8518750071525574,\n",
       "  0.8550000190734863,\n",
       "  0.8543750047683716,\n",
       "  0.856249988079071,\n",
       "  0.8550000190734863]}"
      ]
     },
     "execution_count": 39,
     "metadata": {},
     "output_type": "execute_result"
    }
   ],
   "source": [
    "#checking loss, accuracy, val_loss and val_accuracy which are stored inside 'history' object as dictionary format\n",
    "#(here, it is 100 values each for 100 epochs)\n",
    "\n",
    "history.history"
   ]
  },
  {
   "cell_type": "code",
   "execution_count": 40,
   "metadata": {},
   "outputs": [],
   "source": [
    "#converting this confusing data into plot for better representation\n",
    "import matplotlib.pyplot as plt"
   ]
  },
  {
   "cell_type": "code",
   "execution_count": 41,
   "metadata": {},
   "outputs": [
    {
     "data": {
      "text/plain": [
       "<matplotlib.legend.Legend at 0x1e30983bd90>"
      ]
     },
     "execution_count": 41,
     "metadata": {},
     "output_type": "execute_result"
    },
    {
     "data": {
      "image/png": "[encoded data removed]",
      "text/plain": [
       "<Figure size 432x288 with 1 Axes>"
      ]
     },
     "metadata": {
      "needs_background": "light"
     },
     "output_type": "display_data"
    }
   ],
   "source": [
    "plt.plot(history.history['loss'], label = 'loss')\n",
    "plt.plot(history.history['val_loss'], label = 'val_loss')\n",
    "plt.legend()"
   ]
  },
  {
   "cell_type": "code",
   "execution_count": 42,
   "metadata": {},
   "outputs": [
    {
     "data": {
      "text/plain": [
       "<matplotlib.legend.Legend at 0x1e30b927730>"
      ]
     },
     "execution_count": 42,
     "metadata": {},
     "output_type": "execute_result"
    },
    {
     "data": {
      "image/png": "[encoded data removed]",
      "text/plain": [
       "<Figure size 432x288 with 1 Axes>"
      ]
     },
     "metadata": {
      "needs_background": "light"
     },
     "output_type": "display_data"
    }
   ],
   "source": [
    "plt.plot(history.history['accuracy'], label = 'accuracy')\n",
    "plt.plot(history.history['val_accuracy'], label = 'val_accuracy')\n",
    "plt.legend()"
   ]
  },
  {
   "cell_type": "code",
   "execution_count": null,
   "metadata": {},
   "outputs": [],
   "source": []
  }
 ],
 "metadata": {
  "kernelspec": {
   "display_name": "Python 3",
   "language": "python",
   "name": "python3"
  },
  "language_info": {
   "codemirror_mode": {
    "name": "ipython",
    "version": 3
   },
   "file_extension": ".py",
   "mimetype": "text/x-python",
   "name": "python",
   "nbconvert_exporter": "python",
   "pygments_lexer": "ipython3",
   "version": "3.8.7"
  }
 },
 "nbformat": 4,
 "nbformat_minor": 4
}
