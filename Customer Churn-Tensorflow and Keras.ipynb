{
 "cells": [
  {
   "cell_type": "markdown",
   "metadata": {},
   "source": [
    "# Customer Churn - Tensorflow and Keras"
   ]
  },
  {
   "cell_type": "markdown",
   "metadata": {},
   "source": [
    "#### Tensorflow: \n",
    "Tensorflow is a free and open-source library for machine learning and artificial intelligence. \n",
    "It was developed by Google. \n",
    "It can be used for developing large-scale machine learning applications.\n",
    "\n",
    "#### Keras:\n",
    "Keras is also an open-source library for machine learning and neural network but it higher-level API compared to Tensorflow and can run on top of Tensorflow.\n",
    "\n",
    "#### Note:\n",
    "Training of model and execution is fast in Tensorflow, while it is slow in Keras. Thus Keras is used mainly for rapid prototyping and applications dealing with small datasets. Whereas, Tensorflow is used for creating large-scale applications."
   ]
  },
  {
   "cell_type": "markdown",
   "metadata": {},
   "source": [
    "## Step 1: Importing libraries and checking for missing and duplicate values"
   ]
  },
  {
   "cell_type": "code",
   "execution_count": 1,
   "metadata": {},
   "outputs": [],
   "source": [
    "import pandas as pd\n",
    "import numpy as np"
   ]
  },
  {
   "cell_type": "code",
   "execution_count": 2,
   "metadata": {},
   "outputs": [],
   "source": [
    "df = pd.read_csv(\"Churn_Modelling.csv\")"
   ]
  },
  {
   "cell_type": "code",
   "execution_count": 3,
   "metadata": {},
   "outputs": [
    {
     "data": {
      "text/html": [
       "<div>\n",
       "<style scoped>\n",
       "    .dataframe tbody tr th:only-of-type {\n",
       "        vertical-align: middle;\n",
       "    }\n",
       "\n",
       "    .dataframe tbody tr th {\n",
       "        vertical-align: top;\n",
       "    }\n",
       "\n",
       "    .dataframe thead th {\n",
       "        text-align: right;\n",
       "    }\n",
       "</style>\n",
       "<table border=\"1\" class=\"dataframe\">\n",
       "  <thead>\n",
       "    <tr style=\"text-align: right;\">\n",
       "      <th></th>\n",
       "      <th>RowNumber</th>\n",
       "      <th>CustomerId</th>\n",
       "      <th>Surname</th>\n",
       "      <th>CreditScore</th>\n",
       "      <th>Geography</th>\n",
       "      <th>Gender</th>\n",
       "      <th>Age</th>\n",
       "      <th>Tenure</th>\n",
       "      <th>Balance</th>\n",
       "      <th>NumOfProducts</th>\n",
       "      <th>HasCrCard</th>\n",
       "      <th>IsActiveMember</th>\n",
       "      <th>EstimatedSalary</th>\n",
       "      <th>Exited</th>\n",
       "    </tr>\n",
       "  </thead>\n",
       "  <tbody>\n",
       "    <tr>\n",
       "      <th>0</th>\n",
       "      <td>1</td>\n",
       "      <td>15634602</td>\n",
       "      <td>Hargrave</td>\n",
       "      <td>619</td>\n",
       "      <td>France</td>\n",
       "      <td>Female</td>\n",
       "      <td>42</td>\n",
       "      <td>2</td>\n",
       "      <td>0.00</td>\n",
       "      <td>1</td>\n",
       "      <td>1</td>\n",
       "      <td>1</td>\n",
       "      <td>101348.88</td>\n",
       "      <td>1</td>\n",
       "    </tr>\n",
       "    <tr>\n",
       "      <th>1</th>\n",
       "      <td>2</td>\n",
       "      <td>15647311</td>\n",
       "      <td>Hill</td>\n",
       "      <td>608</td>\n",
       "      <td>Spain</td>\n",
       "      <td>Female</td>\n",
       "      <td>41</td>\n",
       "      <td>1</td>\n",
       "      <td>83807.86</td>\n",
       "      <td>1</td>\n",
       "      <td>0</td>\n",
       "      <td>1</td>\n",
       "      <td>112542.58</td>\n",
       "      <td>0</td>\n",
       "    </tr>\n",
       "    <tr>\n",
       "      <th>2</th>\n",
       "      <td>3</td>\n",
       "      <td>15619304</td>\n",
       "      <td>Onio</td>\n",
       "      <td>502</td>\n",
       "      <td>France</td>\n",
       "      <td>Female</td>\n",
       "      <td>42</td>\n",
       "      <td>8</td>\n",
       "      <td>159660.80</td>\n",
       "      <td>3</td>\n",
       "      <td>1</td>\n",
       "      <td>0</td>\n",
       "      <td>113931.57</td>\n",
       "      <td>1</td>\n",
       "    </tr>\n",
       "    <tr>\n",
       "      <th>3</th>\n",
       "      <td>4</td>\n",
       "      <td>15701354</td>\n",
       "      <td>Boni</td>\n",
       "      <td>699</td>\n",
       "      <td>France</td>\n",
       "      <td>Female</td>\n",
       "      <td>39</td>\n",
       "      <td>1</td>\n",
       "      <td>0.00</td>\n",
       "      <td>2</td>\n",
       "      <td>0</td>\n",
       "      <td>0</td>\n",
       "      <td>93826.63</td>\n",
       "      <td>0</td>\n",
       "    </tr>\n",
       "    <tr>\n",
       "      <th>4</th>\n",
       "      <td>5</td>\n",
       "      <td>15737888</td>\n",
       "      <td>Mitchell</td>\n",
       "      <td>850</td>\n",
       "      <td>Spain</td>\n",
       "      <td>Female</td>\n",
       "      <td>43</td>\n",
       "      <td>2</td>\n",
       "      <td>125510.82</td>\n",
       "      <td>1</td>\n",
       "      <td>1</td>\n",
       "      <td>1</td>\n",
       "      <td>79084.10</td>\n",
       "      <td>0</td>\n",
       "    </tr>\n",
       "  </tbody>\n",
       "</table>\n",
       "</div>"
      ],
      "text/plain": [
       "   RowNumber  CustomerId   Surname  CreditScore Geography  Gender  Age  \\\n",
       "0          1    15634602  Hargrave          619    France  Female   42   \n",
       "1          2    15647311      Hill          608     Spain  Female   41   \n",
       "2          3    15619304      Onio          502    France  Female   42   \n",
       "3          4    15701354      Boni          699    France  Female   39   \n",
       "4          5    15737888  Mitchell          850     Spain  Female   43   \n",
       "\n",
       "   Tenure    Balance  NumOfProducts  HasCrCard  IsActiveMember  \\\n",
       "0       2       0.00              1          1               1   \n",
       "1       1   83807.86              1          0               1   \n",
       "2       8  159660.80              3          1               0   \n",
       "3       1       0.00              2          0               0   \n",
       "4       2  125510.82              1          1               1   \n",
       "\n",
       "   EstimatedSalary  Exited  \n",
       "0        101348.88       1  \n",
       "1        112542.58       0  \n",
       "2        113931.57       1  \n",
       "3         93826.63       0  \n",
       "4         79084.10       0  "
      ]
     },
     "execution_count": 3,
     "metadata": {},
     "output_type": "execute_result"
    }
   ],
   "source": [
    "df.head()"
   ]
  },
  {
   "cell_type": "code",
   "execution_count": 4,
   "metadata": {},
   "outputs": [
    {
     "data": {
      "text/plain": [
       "(10000, 14)"
      ]
     },
     "execution_count": 4,
     "metadata": {},
     "output_type": "execute_result"
    }
   ],
   "source": [
    "#check dataset rows and columns\n",
    "df.shape"
   ]
  },
  {
   "cell_type": "code",
   "execution_count": 5,
   "metadata": {},
   "outputs": [
    {
     "name": "stdout",
     "output_type": "stream",
     "text": [
      "<class 'pandas.core.frame.DataFrame'>\n",
      "RangeIndex: 10000 entries, 0 to 9999\n",
      "Data columns (total 14 columns):\n",
      " #   Column           Non-Null Count  Dtype  \n",
      "---  ------           --------------  -----  \n",
      " 0   RowNumber        10000 non-null  int64  \n",
      " 1   CustomerId       10000 non-null  int64  \n",
      " 2   Surname          10000 non-null  object \n",
      " 3   CreditScore      10000 non-null  int64  \n",
      " 4   Geography        10000 non-null  object \n",
      " 5   Gender           10000 non-null  object \n",
      " 6   Age              10000 non-null  int64  \n",
      " 7   Tenure           10000 non-null  int64  \n",
      " 8   Balance          10000 non-null  float64\n",
      " 9   NumOfProducts    10000 non-null  int64  \n",
      " 10  HasCrCard        10000 non-null  int64  \n",
      " 11  IsActiveMember   10000 non-null  int64  \n",
      " 12  EstimatedSalary  10000 non-null  float64\n",
      " 13  Exited           10000 non-null  int64  \n",
      "dtypes: float64(2), int64(9), object(3)\n",
      "memory usage: 1.1+ MB\n"
     ]
    }
   ],
   "source": [
    "#check missing values of dataset\n",
    "df.info()"
   ]
  },
  {
   "cell_type": "code",
   "execution_count": 6,
   "metadata": {},
   "outputs": [
    {
     "data": {
      "text/plain": [
       "0"
      ]
     },
     "execution_count": 6,
     "metadata": {},
     "output_type": "execute_result"
    }
   ],
   "source": [
    "#check for duplicate rows\n",
    "df.duplicated().sum()"
   ]
  },
  {
   "cell_type": "markdown",
   "metadata": {},
   "source": [
    "## Step 2: Checking unique values of the features to check if the dataset is imbalanced and drop irrelevant columns"
   ]
  },
  {
   "cell_type": "code",
   "execution_count": 7,
   "metadata": {
    "scrolled": true
   },
   "outputs": [
    {
     "data": {
      "text/plain": [
       "0    7963\n",
       "1    2037\n",
       "Name: Exited, dtype: int64"
      ]
     },
     "execution_count": 7,
     "metadata": {},
     "output_type": "execute_result"
    }
   ],
   "source": [
    "#check our target variable's unique values\n",
    "df[\"Exited\"].value_counts()"
   ]
  },
  {
   "cell_type": "markdown",
   "metadata": {},
   "source": [
    "#### The above cell helps us to understand that this is a classical example of imbalanced dataset. \n",
    "#### 0 = Customers retained by the bank, 1 = Customers who left the bank\n",
    "\n",
    "#### Our concern is mainly on creating the model (not the best one, ofcourse) otherwise we would have considered the high imbalance in the dataset."
   ]
  },
  {
   "cell_type": "code",
   "execution_count": 8,
   "metadata": {
    "scrolled": true
   },
   "outputs": [
    {
     "data": {
      "text/plain": [
       "France     5014\n",
       "Germany    2509\n",
       "Spain      2477\n",
       "Name: Geography, dtype: int64"
      ]
     },
     "execution_count": 8,
     "metadata": {},
     "output_type": "execute_result"
    }
   ],
   "source": [
    "df[\"Geography\"].value_counts()"
   ]
  },
  {
   "cell_type": "markdown",
   "metadata": {},
   "source": [
    "#### Drop irrelevant columns"
   ]
  },
  {
   "cell_type": "code",
   "execution_count": 9,
   "metadata": {},
   "outputs": [],
   "source": [
    "#inplace = True (To make permanent changes in the dataset)\n",
    "df.drop(columns = ['RowNumber', 'CustomerId', 'Surname'], inplace = True)"
   ]
  },
  {
   "cell_type": "code",
   "execution_count": 10,
   "metadata": {},
   "outputs": [
    {
     "data": {
      "text/html": [
       "<div>\n",
       "<style scoped>\n",
       "    .dataframe tbody tr th:only-of-type {\n",
       "        vertical-align: middle;\n",
       "    }\n",
       "\n",
       "    .dataframe tbody tr th {\n",
       "        vertical-align: top;\n",
       "    }\n",
       "\n",
       "    .dataframe thead th {\n",
       "        text-align: right;\n",
       "    }\n",
       "</style>\n",
       "<table border=\"1\" class=\"dataframe\">\n",
       "  <thead>\n",
       "    <tr style=\"text-align: right;\">\n",
       "      <th></th>\n",
       "      <th>CreditScore</th>\n",
       "      <th>Geography</th>\n",
       "      <th>Gender</th>\n",
       "      <th>Age</th>\n",
       "      <th>Tenure</th>\n",
       "      <th>Balance</th>\n",
       "      <th>NumOfProducts</th>\n",
       "      <th>HasCrCard</th>\n",
       "      <th>IsActiveMember</th>\n",
       "      <th>EstimatedSalary</th>\n",
       "      <th>Exited</th>\n",
       "    </tr>\n",
       "  </thead>\n",
       "  <tbody>\n",
       "    <tr>\n",
       "      <th>0</th>\n",
       "      <td>619</td>\n",
       "      <td>France</td>\n",
       "      <td>Female</td>\n",
       "      <td>42</td>\n",
       "      <td>2</td>\n",
       "      <td>0.00</td>\n",
       "      <td>1</td>\n",
       "      <td>1</td>\n",
       "      <td>1</td>\n",
       "      <td>101348.88</td>\n",
       "      <td>1</td>\n",
       "    </tr>\n",
       "    <tr>\n",
       "      <th>1</th>\n",
       "      <td>608</td>\n",
       "      <td>Spain</td>\n",
       "      <td>Female</td>\n",
       "      <td>41</td>\n",
       "      <td>1</td>\n",
       "      <td>83807.86</td>\n",
       "      <td>1</td>\n",
       "      <td>0</td>\n",
       "      <td>1</td>\n",
       "      <td>112542.58</td>\n",
       "      <td>0</td>\n",
       "    </tr>\n",
       "    <tr>\n",
       "      <th>2</th>\n",
       "      <td>502</td>\n",
       "      <td>France</td>\n",
       "      <td>Female</td>\n",
       "      <td>42</td>\n",
       "      <td>8</td>\n",
       "      <td>159660.80</td>\n",
       "      <td>3</td>\n",
       "      <td>1</td>\n",
       "      <td>0</td>\n",
       "      <td>113931.57</td>\n",
       "      <td>1</td>\n",
       "    </tr>\n",
       "    <tr>\n",
       "      <th>3</th>\n",
       "      <td>699</td>\n",
       "      <td>France</td>\n",
       "      <td>Female</td>\n",
       "      <td>39</td>\n",
       "      <td>1</td>\n",
       "      <td>0.00</td>\n",
       "      <td>2</td>\n",
       "      <td>0</td>\n",
       "      <td>0</td>\n",
       "      <td>93826.63</td>\n",
       "      <td>0</td>\n",
       "    </tr>\n",
       "    <tr>\n",
       "      <th>4</th>\n",
       "      <td>850</td>\n",
       "      <td>Spain</td>\n",
       "      <td>Female</td>\n",
       "      <td>43</td>\n",
       "      <td>2</td>\n",
       "      <td>125510.82</td>\n",
       "      <td>1</td>\n",
       "      <td>1</td>\n",
       "      <td>1</td>\n",
       "      <td>79084.10</td>\n",
       "      <td>0</td>\n",
       "    </tr>\n",
       "  </tbody>\n",
       "</table>\n",
       "</div>"
      ],
      "text/plain": [
       "   CreditScore Geography  Gender  Age  Tenure    Balance  NumOfProducts  \\\n",
       "0          619    France  Female   42       2       0.00              1   \n",
       "1          608     Spain  Female   41       1   83807.86              1   \n",
       "2          502    France  Female   42       8  159660.80              3   \n",
       "3          699    France  Female   39       1       0.00              2   \n",
       "4          850     Spain  Female   43       2  125510.82              1   \n",
       "\n",
       "   HasCrCard  IsActiveMember  EstimatedSalary  Exited  \n",
       "0          1               1        101348.88       1  \n",
       "1          0               1        112542.58       0  \n",
       "2          1               0        113931.57       1  \n",
       "3          0               0         93826.63       0  \n",
       "4          1               1         79084.10       0  "
      ]
     },
     "execution_count": 10,
     "metadata": {},
     "output_type": "execute_result"
    }
   ],
   "source": [
    "df.head()"
   ]
  },
  {
   "cell_type": "markdown",
   "metadata": {},
   "source": [
    "#### We are not doing EDA because we have already done it in our first part. We are only focsuing on building our model using Artificial Neural Network (ANN) with Keras."
   ]
  },
  {
   "cell_type": "markdown",
   "metadata": {},
   "source": [
    "## Step 4: One hot encoding categorical columns and Scaling all the columns"
   ]
  },
  {
   "cell_type": "markdown",
   "metadata": {},
   "source": [
    "#### Encoding features"
   ]
  },
  {
   "cell_type": "code",
   "execution_count": 11,
   "metadata": {},
   "outputs": [],
   "source": [
    "df = pd.get_dummies(df, columns = ['Geography', 'Gender'], drop_first=True)"
   ]
  },
  {
   "cell_type": "code",
   "execution_count": 12,
   "metadata": {},
   "outputs": [
    {
     "data": {
      "text/html": [
       "<div>\n",
       "<style scoped>\n",
       "    .dataframe tbody tr th:only-of-type {\n",
       "        vertical-align: middle;\n",
       "    }\n",
       "\n",
       "    .dataframe tbody tr th {\n",
       "        vertical-align: top;\n",
       "    }\n",
       "\n",
       "    .dataframe thead th {\n",
       "        text-align: right;\n",
       "    }\n",
       "</style>\n",
       "<table border=\"1\" class=\"dataframe\">\n",
       "  <thead>\n",
       "    <tr style=\"text-align: right;\">\n",
       "      <th></th>\n",
       "      <th>CreditScore</th>\n",
       "      <th>Age</th>\n",
       "      <th>Tenure</th>\n",
       "      <th>Balance</th>\n",
       "      <th>NumOfProducts</th>\n",
       "      <th>HasCrCard</th>\n",
       "      <th>IsActiveMember</th>\n",
       "      <th>EstimatedSalary</th>\n",
       "      <th>Exited</th>\n",
       "      <th>Geography_Germany</th>\n",
       "      <th>Geography_Spain</th>\n",
       "      <th>Gender_Male</th>\n",
       "    </tr>\n",
       "  </thead>\n",
       "  <tbody>\n",
       "    <tr>\n",
       "      <th>0</th>\n",
       "      <td>619</td>\n",
       "      <td>42</td>\n",
       "      <td>2</td>\n",
       "      <td>0.00</td>\n",
       "      <td>1</td>\n",
       "      <td>1</td>\n",
       "      <td>1</td>\n",
       "      <td>101348.88</td>\n",
       "      <td>1</td>\n",
       "      <td>0</td>\n",
       "      <td>0</td>\n",
       "      <td>0</td>\n",
       "    </tr>\n",
       "    <tr>\n",
       "      <th>1</th>\n",
       "      <td>608</td>\n",
       "      <td>41</td>\n",
       "      <td>1</td>\n",
       "      <td>83807.86</td>\n",
       "      <td>1</td>\n",
       "      <td>0</td>\n",
       "      <td>1</td>\n",
       "      <td>112542.58</td>\n",
       "      <td>0</td>\n",
       "      <td>0</td>\n",
       "      <td>1</td>\n",
       "      <td>0</td>\n",
       "    </tr>\n",
       "    <tr>\n",
       "      <th>2</th>\n",
       "      <td>502</td>\n",
       "      <td>42</td>\n",
       "      <td>8</td>\n",
       "      <td>159660.80</td>\n",
       "      <td>3</td>\n",
       "      <td>1</td>\n",
       "      <td>0</td>\n",
       "      <td>113931.57</td>\n",
       "      <td>1</td>\n",
       "      <td>0</td>\n",
       "      <td>0</td>\n",
       "      <td>0</td>\n",
       "    </tr>\n",
       "    <tr>\n",
       "      <th>3</th>\n",
       "      <td>699</td>\n",
       "      <td>39</td>\n",
       "      <td>1</td>\n",
       "      <td>0.00</td>\n",
       "      <td>2</td>\n",
       "      <td>0</td>\n",
       "      <td>0</td>\n",
       "      <td>93826.63</td>\n",
       "      <td>0</td>\n",
       "      <td>0</td>\n",
       "      <td>0</td>\n",
       "      <td>0</td>\n",
       "    </tr>\n",
       "    <tr>\n",
       "      <th>4</th>\n",
       "      <td>850</td>\n",
       "      <td>43</td>\n",
       "      <td>2</td>\n",
       "      <td>125510.82</td>\n",
       "      <td>1</td>\n",
       "      <td>1</td>\n",
       "      <td>1</td>\n",
       "      <td>79084.10</td>\n",
       "      <td>0</td>\n",
       "      <td>0</td>\n",
       "      <td>1</td>\n",
       "      <td>0</td>\n",
       "    </tr>\n",
       "  </tbody>\n",
       "</table>\n",
       "</div>"
      ],
      "text/plain": [
       "   CreditScore  Age  Tenure    Balance  NumOfProducts  HasCrCard  \\\n",
       "0          619   42       2       0.00              1          1   \n",
       "1          608   41       1   83807.86              1          0   \n",
       "2          502   42       8  159660.80              3          1   \n",
       "3          699   39       1       0.00              2          0   \n",
       "4          850   43       2  125510.82              1          1   \n",
       "\n",
       "   IsActiveMember  EstimatedSalary  Exited  Geography_Germany  \\\n",
       "0               1        101348.88       1                  0   \n",
       "1               1        112542.58       0                  0   \n",
       "2               0        113931.57       1                  0   \n",
       "3               0         93826.63       0                  0   \n",
       "4               1         79084.10       0                  0   \n",
       "\n",
       "   Geography_Spain  Gender_Male  \n",
       "0                0            0  \n",
       "1                1            0  \n",
       "2                0            0  \n",
       "3                0            0  \n",
       "4                1            0  "
      ]
     },
     "execution_count": 12,
     "metadata": {},
     "output_type": "execute_result"
    }
   ],
   "source": [
    "df.head()"
   ]
  },
  {
   "cell_type": "markdown",
   "metadata": {},
   "source": [
    "#### We have to scale all the values as few values have 6 digits and few only have 1 digit. \n",
    "#### This is also very useful while training Neural Networks as the value of the weights does not converge easily. \n",
    "#### So, we make sure that before builing a Neural Network model we scale the values beforehand.\n",
    "\n",
    "### Scaling all the features"
   ]
  },
  {
   "cell_type": "code",
   "execution_count": 13,
   "metadata": {},
   "outputs": [],
   "source": [
    "# Split dataset\n",
    "X = df.drop(columns = ['Exited'])\n",
    "y = df['Exited']\n",
    "\n",
    "from sklearn.model_selection import train_test_split\n",
    "\n",
    "X_train, X_test, y_train, y_test = train_test_split(X,y,test_size=0.2, random_state=1)"
   ]
  },
  {
   "cell_type": "code",
   "execution_count": 14,
   "metadata": {},
   "outputs": [
    {
     "data": {
      "text/plain": [
       "((8000, 11), (2000, 11))"
      ]
     },
     "execution_count": 14,
     "metadata": {},
     "output_type": "execute_result"
    }
   ],
   "source": [
    "X_train.shape, X_test.shape"
   ]
  },
  {
   "cell_type": "code",
   "execution_count": 15,
   "metadata": {
    "scrolled": true
   },
   "outputs": [
    {
     "data": {
      "text/plain": [
       "((8000,), (2000,))"
      ]
     },
     "execution_count": 15,
     "metadata": {},
     "output_type": "execute_result"
    }
   ],
   "source": [
    "y_train.shape, y_test.shape"
   ]
  },
  {
   "cell_type": "code",
   "execution_count": 16,
   "metadata": {},
   "outputs": [],
   "source": [
    "from sklearn.preprocessing import StandardScaler\n",
    "\n",
    "scaler = StandardScaler()\n",
    "\n",
    "X_train_scaled = scaler.fit_transform(X_train)\n",
    "X_test_scaled = scaler.transform(X_test)"
   ]
  },
  {
   "cell_type": "code",
   "execution_count": 17,
   "metadata": {},
   "outputs": [
    {
     "data": {
      "text/plain": [
       "array([[-0.23082038, -0.94449979, -0.70174202, ...,  1.71490137,\n",
       "        -0.57273139,  0.91509065],\n",
       "       [-0.25150912, -0.94449979, -0.35520275, ..., -0.58312392,\n",
       "        -0.57273139, -1.09278791],\n",
       "       [-0.3963303 ,  0.77498705,  0.33787579, ...,  1.71490137,\n",
       "        -0.57273139, -1.09278791],\n",
       "       ...,\n",
       "       [ 0.22433188,  0.58393295,  1.3774936 , ..., -0.58312392,\n",
       "        -0.57273139, -1.09278791],\n",
       "       [ 0.13123255,  0.01077067,  1.03095433, ..., -0.58312392,\n",
       "        -0.57273139, -1.09278791],\n",
       "       [ 1.1656695 ,  0.29735181,  0.33787579, ...,  1.71490137,\n",
       "        -0.57273139,  0.91509065]])"
      ]
     },
     "execution_count": 17,
     "metadata": {},
     "output_type": "execute_result"
    }
   ],
   "source": [
    "# We will see the transformed values in 2-D array.\n",
    "X_train_scaled"
   ]
  },
  {
   "cell_type": "markdown",
   "metadata": {},
   "source": [
    "## Step 5: Time to use Keras"
   ]
  },
  {
   "cell_type": "markdown",
   "metadata": {},
   "source": [
    "#### Import tensorflow and keras"
   ]
  },
  {
   "cell_type": "code",
   "execution_count": 18,
   "metadata": {},
   "outputs": [],
   "source": [
    "import tensorflow\n",
    "from tensorflow import keras\n",
    "from tensorflow.keras import Sequential # There are 2 types of keras model: Sequential and Non-Sequential. We are focusing on sequential model now.\n",
    "from tensorflow.keras.layers import Dense "
   ]
  },
  {
   "cell_type": "markdown",
   "metadata": {},
   "source": [
    "#### Add layers (adding weights and biases)"
   ]
  },
  {
   "cell_type": "code",
   "execution_count": 19,
   "metadata": {},
   "outputs": [],
   "source": [
    "model = Sequential()\n",
    "\n",
    "model.add(Dense(3, activation='sigmoid', input_dim=11))\n",
    "model.add(Dense(1, activation='sigmoid'))"
   ]
  },
  {
   "cell_type": "code",
   "execution_count": 20,
   "metadata": {},
   "outputs": [
    {
     "name": "stdout",
     "output_type": "stream",
     "text": [
      "Model: \"sequential\"\n",
      "_________________________________________________________________\n",
      "Layer (type)                 Output Shape              Param #   \n",
      "=================================================================\n",
      "dense (Dense)                (None, 3)                 36        \n",
      "_________________________________________________________________\n",
      "dense_1 (Dense)              (None, 1)                 4         \n",
      "=================================================================\n",
      "Total params: 40\n",
      "Trainable params: 40\n",
      "Non-trainable params: 0\n",
      "_________________________________________________________________\n"
     ]
    }
   ],
   "source": [
    "model.summary()"
   ]
  },
  {
   "cell_type": "code",
   "execution_count": 21,
   "metadata": {},
   "outputs": [],
   "source": [
    "model.compile(loss='binary_crossentropy', optimizer='Adam')"
   ]
  },
  {
   "cell_type": "markdown",
   "metadata": {},
   "source": [
    "#### Fitting the trained model "
   ]
  },
  {
   "cell_type": "code",
   "execution_count": 22,
   "metadata": {
    "scrolled": true
   },
   "outputs": [
    {
     "name": "stdout",
     "output_type": "stream",
     "text": [
      "Epoch 1/10\n",
      "250/250 [==============================] - 2s 2ms/step - loss: 1.0230\n",
      "Epoch 2/10\n",
      "250/250 [==============================] - 1s 2ms/step - loss: 0.7570A: 0s - loss: 0.7\n",
      "Epoch 3/10\n",
      "250/250 [==============================] - 0s 2ms/step - loss: 0.6093\n",
      "Epoch 4/10\n",
      "250/250 [==============================] - 0s 2ms/step - loss: 0.5311\n",
      "Epoch 5/10\n",
      "250/250 [==============================] - 0s 2ms/step - loss: 0.4964\n",
      "Epoch 6/10\n",
      "250/250 [==============================] - 0s 2ms/step - loss: 0.4738\n",
      "Epoch 7/10\n",
      "250/250 [==============================] - 0s 2ms/step - loss: 0.4598A: 0s - loss: 0.45\n",
      "Epoch 8/10\n",
      "250/250 [==============================] - 0s 1ms/step - loss: 0.4541\n",
      "Epoch 9/10\n",
      "250/250 [==============================] - 0s 2ms/step - loss: 0.4493\n",
      "Epoch 10/10\n",
      "250/250 [==============================] - 0s 1ms/step - loss: 0.4439\n"
     ]
    },
    {
     "data": {
      "text/plain": [
       "<tensorflow.python.keras.callbacks.History at 0x258d892f4c0>"
      ]
     },
     "execution_count": 22,
     "metadata": {},
     "output_type": "execute_result"
    }
   ],
   "source": [
    "model.fit(X_train_scaled, y_train, epochs=10)"
   ]
  },
  {
   "cell_type": "markdown",
   "metadata": {},
   "source": [
    "#### Checking the stored locaion of weights and biases of our trained model"
   ]
  },
  {
   "cell_type": "code",
   "execution_count": 23,
   "metadata": {},
   "outputs": [
    {
     "data": {
      "text/plain": [
       "[array([[-0.02511641, -0.23492825, -0.04969935],\n",
       "        [-1.329942  ,  1.0450305 ,  1.1150635 ],\n",
       "        [ 0.04278281, -0.09251922, -0.15364797],\n",
       "        [-0.17936602,  0.10628829,  0.55420244],\n",
       "        [ 0.16912694, -0.29279986,  0.04958194],\n",
       "        [-0.07392672, -0.03482469, -0.2504669 ],\n",
       "        [ 1.1196731 , -0.49805674, -0.19117814],\n",
       "        [-0.09419082, -0.01518407,  0.2494997 ],\n",
       "        [-0.84143347,  0.40904197,  0.34730208],\n",
       "        [ 0.00245218, -0.07361576,  0.08043028],\n",
       "        [ 0.40243122, -0.3758122 , -0.6859438 ]], dtype=float32),\n",
       " array([ 1.2546271 , -0.64606047, -0.5300934 ], dtype=float32)]"
      ]
     },
     "execution_count": 23,
     "metadata": {},
     "output_type": "execute_result"
    }
   ],
   "source": [
    "#to fetch where the model weights and biases are stored\n",
    "\n",
    "#11x3 weights with 3 biases\n",
    "model.layers[0].get_weights()"
   ]
  },
  {
   "cell_type": "code",
   "execution_count": 24,
   "metadata": {},
   "outputs": [
    {
     "data": {
      "text/plain": [
       "[array([[-1.2322321 ],\n",
       "        [ 0.6156152 ],\n",
       "        [ 0.30836174]], dtype=float32),\n",
       " array([-0.9145755], dtype=float32)]"
      ]
     },
     "execution_count": 24,
     "metadata": {},
     "output_type": "execute_result"
    }
   ],
   "source": [
    "#3x1 weights with 1 bias\n",
    "model.layers[1].get_weights()"
   ]
  },
  {
   "cell_type": "markdown",
   "metadata": {},
   "source": [
    "## Step 6: Predict"
   ]
  },
  {
   "cell_type": "code",
   "execution_count": 25,
   "metadata": {},
   "outputs": [
    {
     "data": {
      "text/plain": [
       "array([[0.14070347],\n",
       "       [0.16624165],\n",
       "       [0.1590567 ],\n",
       "       ...,\n",
       "       [0.11347693],\n",
       "       [0.17178965],\n",
       "       [0.32864255]], dtype=float32)"
      ]
     },
     "execution_count": 25,
     "metadata": {},
     "output_type": "execute_result"
    }
   ],
   "source": [
    "#we are getting the prediction not as 0 and 1 based on the dataset \n",
    "#because we are using sigmoid function whose output is between 0 and 1 which is a probability. \n",
    "model.predict(X_test_scaled)"
   ]
  },
  {
   "cell_type": "code",
   "execution_count": 26,
   "metadata": {},
   "outputs": [],
   "source": [
    "#we need to decide the threshold by ourselves. \n",
    "#Here, we are taking the threshold as 0.5 but we should use ROC curve to find out the optimal threshold for our predictions.\n",
    "y_log = model.predict(X_test_scaled)"
   ]
  },
  {
   "cell_type": "code",
   "execution_count": 27,
   "metadata": {},
   "outputs": [],
   "source": [
    "#Setting up our threshold at 0.5\n",
    "y_pred = np.where(y_log > 0.5, 1, 0)"
   ]
  },
  {
   "cell_type": "markdown",
   "metadata": {},
   "source": [
    "## Step 7: Evaluating model metrics and methods to enhance accuracy score"
   ]
  },
  {
   "cell_type": "code",
   "execution_count": 28,
   "metadata": {},
   "outputs": [
    {
     "data": {
      "text/plain": [
       "0.7925"
      ]
     },
     "execution_count": 28,
     "metadata": {},
     "output_type": "execute_result"
    }
   ],
   "source": [
    "from sklearn.metrics import accuracy_score\n",
    "\n",
    "accuracy_score(y_test, y_pred)"
   ]
  },
  {
   "cell_type": "code",
   "execution_count": 29,
   "metadata": {},
   "outputs": [],
   "source": [
    "#Steps to enhance accuracy score:\n",
    "\n",
    "#1. Increase the epochs to 100 or even 1000\n",
    "#2. Change activation function from \"sigmoid\" to \"ReLU\"\n",
    "#3. Increase the no of nodes of layer (Here, from 3 nodes to 10,30 etc., and from 1 to 3,5,etc.,)\n",
    "#Note: Keep eperimenting with the nodes and layers. If we increase the nodes and layers too much then it will cause overfitting\n",
    "\n"
   ]
  },
  {
   "cell_type": "markdown",
   "metadata": {},
   "source": [
    "## Step 8: Enhancing the model performance using the notes listed above"
   ]
  },
  {
   "cell_type": "code",
   "execution_count": 30,
   "metadata": {},
   "outputs": [],
   "source": [
    "#Changing hidden layers to 11 and adding an extra layer also both having activation function = relu\n",
    "model = Sequential()\n",
    "\n",
    "model.add(Dense(11, activation='relu', input_dim=11))\n",
    "model.add(Dense(11, activation='relu'))\n",
    "model.add(Dense(1, activation='sigmoid'))"
   ]
  },
  {
   "cell_type": "code",
   "execution_count": 31,
   "metadata": {},
   "outputs": [
    {
     "name": "stdout",
     "output_type": "stream",
     "text": [
      "Model: \"sequential_1\"\n",
      "_________________________________________________________________\n",
      "Layer (type)                 Output Shape              Param #   \n",
      "=================================================================\n",
      "dense_2 (Dense)              (None, 11)                132       \n",
      "_________________________________________________________________\n",
      "dense_3 (Dense)              (None, 11)                132       \n",
      "_________________________________________________________________\n",
      "dense_4 (Dense)              (None, 1)                 12        \n",
      "=================================================================\n",
      "Total params: 276\n",
      "Trainable params: 276\n",
      "Non-trainable params: 0\n",
      "_________________________________________________________________\n"
     ]
    }
   ],
   "source": [
    "model.summary()"
   ]
  },
  {
   "cell_type": "code",
   "execution_count": 32,
   "metadata": {},
   "outputs": [],
   "source": [
    "#adding accuracy also directly\n",
    "model.compile(loss='binary_crossentropy', optimizer='Adam', metrics=['accuracy'])"
   ]
  },
  {
   "cell_type": "code",
   "execution_count": 33,
   "metadata": {},
   "outputs": [
    {
     "name": "stdout",
     "output_type": "stream",
     "text": [
      "Epoch 1/100\n",
      "200/200 [==============================] - 2s 9ms/step - loss: 0.5929 - accuracy: 0.7028 - val_loss: 0.4835 - val_accuracy: 0.7981\n",
      "Epoch 2/100\n",
      "200/200 [==============================] - 0s 2ms/step - loss: 0.4642 - accuracy: 0.8010 - val_loss: 0.4467 - val_accuracy: 0.8025\n",
      "Epoch 3/100\n",
      "200/200 [==============================] - 0s 2ms/step - loss: 0.4381 - accuracy: 0.8055 - val_loss: 0.4302 - val_accuracy: 0.8081\n",
      "Epoch 4/100\n",
      "200/200 [==============================] - 0s 2ms/step - loss: 0.4266 - accuracy: 0.8080 - val_loss: 0.4192 - val_accuracy: 0.8163\n",
      "Epoch 5/100\n",
      "200/200 [==============================] - 0s 2ms/step - loss: 0.4102 - accuracy: 0.8143 - val_loss: 0.4067 - val_accuracy: 0.8169\n",
      "Epoch 6/100\n",
      "200/200 [==============================] - 0s 2ms/step - loss: 0.3969 - accuracy: 0.8230 - val_loss: 0.3914 - val_accuracy: 0.8306\n",
      "Epoch 7/100\n",
      "200/200 [==============================] - 1s 3ms/step - loss: 0.3795 - accuracy: 0.8411 - val_loss: 0.3750 - val_accuracy: 0.8363\n",
      "Epoch 8/100\n",
      "200/200 [==============================] - 1s 3ms/step - loss: 0.3750 - accuracy: 0.8445 - val_loss: 0.3640 - val_accuracy: 0.8444\n",
      "Epoch 9/100\n",
      "200/200 [==============================] - 0s 2ms/step - loss: 0.3597 - accuracy: 0.8514 - val_loss: 0.3574 - val_accuracy: 0.8450\n",
      "Epoch 10/100\n",
      "200/200 [==============================] - 0s 2ms/step - loss: 0.3511 - accuracy: 0.8588 - val_loss: 0.3532 - val_accuracy: 0.8512\n",
      "Epoch 11/100\n",
      "200/200 [==============================] - 1s 3ms/step - loss: 0.3546 - accuracy: 0.8558 - val_loss: 0.3510 - val_accuracy: 0.8500\n",
      "Epoch 12/100\n",
      "200/200 [==============================] - 1s 3ms/step - loss: 0.3496 - accuracy: 0.8546 - val_loss: 0.3501 - val_accuracy: 0.8531\n",
      "Epoch 13/100\n",
      "200/200 [==============================] - 1s 3ms/step - loss: 0.3503 - accuracy: 0.8568 - val_loss: 0.3500 - val_accuracy: 0.8500\n",
      "Epoch 14/100\n",
      "200/200 [==============================] - 1s 3ms/step - loss: 0.3300 - accuracy: 0.8624 - val_loss: 0.3494 - val_accuracy: 0.8544\n",
      "Epoch 15/100\n",
      "200/200 [==============================] - 1s 3ms/step - loss: 0.3375 - accuracy: 0.8589 - val_loss: 0.3506 - val_accuracy: 0.8519\n",
      "Epoch 16/100\n",
      "200/200 [==============================] - 1s 3ms/step - loss: 0.3377 - accuracy: 0.8637 - val_loss: 0.3497 - val_accuracy: 0.8537\n",
      "Epoch 17/100\n",
      "200/200 [==============================] - 1s 4ms/step - loss: 0.3444 - accuracy: 0.8523 - val_loss: 0.3489 - val_accuracy: 0.8537\n",
      "Epoch 18/100\n",
      "200/200 [==============================] - 1s 3ms/step - loss: 0.3319 - accuracy: 0.8641 - val_loss: 0.3494 - val_accuracy: 0.8550\n",
      "Epoch 19/100\n",
      "200/200 [==============================] - 1s 4ms/step - loss: 0.3463 - accuracy: 0.8599 - val_loss: 0.3481 - val_accuracy: 0.8531\n",
      "Epoch 20/100\n",
      "200/200 [==============================] - 1s 3ms/step - loss: 0.3406 - accuracy: 0.8623 - val_loss: 0.3508 - val_accuracy: 0.8519\n",
      "Epoch 21/100\n",
      "200/200 [==============================] - 1s 4ms/step - loss: 0.3240 - accuracy: 0.8696 - val_loss: 0.3492 - val_accuracy: 0.8544\n",
      "Epoch 22/100\n",
      "200/200 [==============================] - 0s 2ms/step - loss: 0.3544 - accuracy: 0.8553 - val_loss: 0.3479 - val_accuracy: 0.8531\n",
      "Epoch 23/100\n",
      "200/200 [==============================] - 0s 2ms/step - loss: 0.3311 - accuracy: 0.8651 - val_loss: 0.3489 - val_accuracy: 0.8487\n",
      "Epoch 24/100\n",
      "200/200 [==============================] - 0s 2ms/step - loss: 0.3281 - accuracy: 0.8633 - val_loss: 0.3475 - val_accuracy: 0.8550\n",
      "Epoch 25/100\n",
      "200/200 [==============================] - ETA: 0s - loss: 0.3380 - accuracy: 0.86 - 1s 3ms/step - loss: 0.3380 - accuracy: 0.8607 - val_loss: 0.3484 - val_accuracy: 0.8512\n",
      "Epoch 26/100\n",
      "200/200 [==============================] - 0s 2ms/step - loss: 0.3305 - accuracy: 0.8655 - val_loss: 0.3476 - val_accuracy: 0.8562\n",
      "Epoch 27/100\n",
      "200/200 [==============================] - 0s 2ms/step - loss: 0.3259 - accuracy: 0.8644 - val_loss: 0.3471 - val_accuracy: 0.8519\n",
      "Epoch 28/100\n",
      "200/200 [==============================] - 0s 2ms/step - loss: 0.3349 - accuracy: 0.8614 - val_loss: 0.3468 - val_accuracy: 0.8550\n",
      "Epoch 29/100\n",
      "200/200 [==============================] - 0s 2ms/step - loss: 0.3214 - accuracy: 0.8691 - val_loss: 0.3467 - val_accuracy: 0.8531\n",
      "Epoch 30/100\n",
      "200/200 [==============================] - 0s 2ms/step - loss: 0.3187 - accuracy: 0.8679 - val_loss: 0.3470 - val_accuracy: 0.8525\n",
      "Epoch 31/100\n",
      "200/200 [==============================] - 0s 2ms/step - loss: 0.3213 - accuracy: 0.8696 - val_loss: 0.3470 - val_accuracy: 0.8506\n",
      "Epoch 32/100\n",
      "200/200 [==============================] - 0s 2ms/step - loss: 0.3323 - accuracy: 0.8665 - val_loss: 0.3477 - val_accuracy: 0.8500\n",
      "Epoch 33/100\n",
      "200/200 [==============================] - 0s 2ms/step - loss: 0.3150 - accuracy: 0.8679 - val_loss: 0.3456 - val_accuracy: 0.8519\n",
      "Epoch 34/100\n",
      "200/200 [==============================] - 0s 2ms/step - loss: 0.3229 - accuracy: 0.8716 - val_loss: 0.3462 - val_accuracy: 0.8506\n",
      "Epoch 35/100\n",
      "200/200 [==============================] - 0s 2ms/step - loss: 0.3237 - accuracy: 0.8650 - val_loss: 0.3456 - val_accuracy: 0.8500\n",
      "Epoch 36/100\n",
      "200/200 [==============================] - 1s 3ms/step - loss: 0.3404 - accuracy: 0.8592 - val_loss: 0.3449 - val_accuracy: 0.8494\n",
      "Epoch 37/100\n",
      "200/200 [==============================] - 0s 2ms/step - loss: 0.3187 - accuracy: 0.8716 - val_loss: 0.3477 - val_accuracy: 0.8469\n",
      "Epoch 38/100\n",
      "200/200 [==============================] - 0s 2ms/step - loss: 0.3196 - accuracy: 0.8665 - val_loss: 0.3452 - val_accuracy: 0.8500\n",
      "Epoch 39/100\n",
      "200/200 [==============================] - 0s 2ms/step - loss: 0.3170 - accuracy: 0.8716 - val_loss: 0.3456 - val_accuracy: 0.8494\n",
      "Epoch 40/100\n",
      "200/200 [==============================] - 0s 2ms/step - loss: 0.3219 - accuracy: 0.8681 - val_loss: 0.3446 - val_accuracy: 0.8519\n",
      "Epoch 41/100\n",
      "200/200 [==============================] - 1s 3ms/step - loss: 0.3257 - accuracy: 0.8672 - val_loss: 0.3448 - val_accuracy: 0.8487\n",
      "Epoch 42/100\n",
      "200/200 [==============================] - 0s 2ms/step - loss: 0.3288 - accuracy: 0.8603 - val_loss: 0.3462 - val_accuracy: 0.8475\n",
      "Epoch 43/100\n",
      "200/200 [==============================] - 0s 2ms/step - loss: 0.3236 - accuracy: 0.8661 - val_loss: 0.3445 - val_accuracy: 0.8512\n",
      "Epoch 44/100\n",
      "200/200 [==============================] - 0s 2ms/step - loss: 0.3124 - accuracy: 0.8722 - val_loss: 0.3444 - val_accuracy: 0.8506\n",
      "Epoch 45/100\n",
      "200/200 [==============================] - 0s 2ms/step - loss: 0.3323 - accuracy: 0.8588 - val_loss: 0.3457 - val_accuracy: 0.8500\n",
      "Epoch 46/100\n",
      "200/200 [==============================] - 1s 3ms/step - loss: 0.3378 - accuracy: 0.8611 - val_loss: 0.3447 - val_accuracy: 0.8506\n",
      "Epoch 47/100\n",
      "200/200 [==============================] - 1s 3ms/step - loss: 0.3241 - accuracy: 0.8638 - val_loss: 0.3453 - val_accuracy: 0.8512\n",
      "Epoch 48/100\n",
      "200/200 [==============================] - 0s 2ms/step - loss: 0.3285 - accuracy: 0.8632 - val_loss: 0.3464 - val_accuracy: 0.8469\n",
      "Epoch 49/100\n",
      "200/200 [==============================] - 0s 2ms/step - loss: 0.3276 - accuracy: 0.8669 - val_loss: 0.3438 - val_accuracy: 0.8500\n",
      "Epoch 50/100\n",
      "200/200 [==============================] - 0s 2ms/step - loss: 0.3206 - accuracy: 0.8686 - val_loss: 0.3457 - val_accuracy: 0.8537\n",
      "Epoch 51/100\n",
      "200/200 [==============================] - 0s 2ms/step - loss: 0.3203 - accuracy: 0.8698 - val_loss: 0.3459 - val_accuracy: 0.8525\n",
      "Epoch 52/100\n",
      "200/200 [==============================] - 0s 2ms/step - loss: 0.3273 - accuracy: 0.8678 - val_loss: 0.3451 - val_accuracy: 0.8531\n",
      "Epoch 53/100\n",
      "200/200 [==============================] - 0s 2ms/step - loss: 0.3196 - accuracy: 0.8692 - val_loss: 0.3451 - val_accuracy: 0.8506\n",
      "Epoch 54/100\n",
      "200/200 [==============================] - 0s 2ms/step - loss: 0.3321 - accuracy: 0.8595 - val_loss: 0.3451 - val_accuracy: 0.8475\n",
      "Epoch 55/100\n",
      "200/200 [==============================] - 0s 2ms/step - loss: 0.3228 - accuracy: 0.8682 - val_loss: 0.3455 - val_accuracy: 0.8519\n",
      "Epoch 56/100\n",
      "200/200 [==============================] - 0s 2ms/step - loss: 0.3181 - accuracy: 0.8720 - val_loss: 0.3449 - val_accuracy: 0.8519\n",
      "Epoch 57/100\n"
     ]
    },
    {
     "name": "stdout",
     "output_type": "stream",
     "text": [
      "200/200 [==============================] - 0s 2ms/step - loss: 0.3094 - accuracy: 0.8735 - val_loss: 0.3448 - val_accuracy: 0.8506\n",
      "Epoch 58/100\n",
      "200/200 [==============================] - 1s 3ms/step - loss: 0.3298 - accuracy: 0.8619 - val_loss: 0.3456 - val_accuracy: 0.8500\n",
      "Epoch 59/100\n",
      "200/200 [==============================] - 0s 2ms/step - loss: 0.3106 - accuracy: 0.8726 - val_loss: 0.3454 - val_accuracy: 0.8506\n",
      "Epoch 60/100\n",
      "200/200 [==============================] - 0s 2ms/step - loss: 0.3215 - accuracy: 0.8707 - val_loss: 0.3449 - val_accuracy: 0.8519\n",
      "Epoch 61/100\n",
      "200/200 [==============================] - 0s 2ms/step - loss: 0.3159 - accuracy: 0.8741 - val_loss: 0.3455 - val_accuracy: 0.8506\n",
      "Epoch 62/100\n",
      "200/200 [==============================] - 0s 2ms/step - loss: 0.3258 - accuracy: 0.8643 - val_loss: 0.3462 - val_accuracy: 0.8506\n",
      "Epoch 63/100\n",
      "200/200 [==============================] - 0s 2ms/step - loss: 0.3176 - accuracy: 0.8659 - val_loss: 0.3488 - val_accuracy: 0.8475\n",
      "Epoch 64/100\n",
      "200/200 [==============================] - 0s 2ms/step - loss: 0.3133 - accuracy: 0.8741 - val_loss: 0.3466 - val_accuracy: 0.8487\n",
      "Epoch 65/100\n",
      "200/200 [==============================] - 0s 2ms/step - loss: 0.3155 - accuracy: 0.8680 - val_loss: 0.3468 - val_accuracy: 0.8506\n",
      "Epoch 66/100\n",
      "200/200 [==============================] - 0s 2ms/step - loss: 0.3239 - accuracy: 0.8673 - val_loss: 0.3459 - val_accuracy: 0.8500\n",
      "Epoch 67/100\n",
      "200/200 [==============================] - 0s 2ms/step - loss: 0.3195 - accuracy: 0.8696 - val_loss: 0.3461 - val_accuracy: 0.8506\n",
      "Epoch 68/100\n",
      "200/200 [==============================] - 0s 2ms/step - loss: 0.3106 - accuracy: 0.8768 - val_loss: 0.3475 - val_accuracy: 0.8475\n",
      "Epoch 69/100\n",
      "200/200 [==============================] - 0s 2ms/step - loss: 0.3194 - accuracy: 0.8697 - val_loss: 0.3459 - val_accuracy: 0.8519\n",
      "Epoch 70/100\n",
      "200/200 [==============================] - 1s 3ms/step - loss: 0.3386 - accuracy: 0.8562 - val_loss: 0.3490 - val_accuracy: 0.8487\n",
      "Epoch 71/100\n",
      "200/200 [==============================] - 0s 2ms/step - loss: 0.3187 - accuracy: 0.8665 - val_loss: 0.3466 - val_accuracy: 0.8500\n",
      "Epoch 72/100\n",
      "200/200 [==============================] - 0s 2ms/step - loss: 0.3088 - accuracy: 0.8723 - val_loss: 0.3468 - val_accuracy: 0.8519\n",
      "Epoch 73/100\n",
      "200/200 [==============================] - 0s 2ms/step - loss: 0.3100 - accuracy: 0.8759 - val_loss: 0.3469 - val_accuracy: 0.8500\n",
      "Epoch 74/100\n",
      "200/200 [==============================] - 0s 2ms/step - loss: 0.3158 - accuracy: 0.8673 - val_loss: 0.3476 - val_accuracy: 0.8506\n",
      "Epoch 75/100\n",
      "200/200 [==============================] - 0s 2ms/step - loss: 0.3055 - accuracy: 0.8776 - val_loss: 0.3460 - val_accuracy: 0.8512\n",
      "Epoch 76/100\n",
      "200/200 [==============================] - 0s 2ms/step - loss: 0.3179 - accuracy: 0.8712 - val_loss: 0.3474 - val_accuracy: 0.8506\n",
      "Epoch 77/100\n",
      "200/200 [==============================] - 0s 2ms/step - loss: 0.3149 - accuracy: 0.8719 - val_loss: 0.3474 - val_accuracy: 0.8500\n",
      "Epoch 78/100\n",
      "200/200 [==============================] - 0s 2ms/step - loss: 0.3189 - accuracy: 0.8635 - val_loss: 0.3481 - val_accuracy: 0.8494\n",
      "Epoch 79/100\n",
      "200/200 [==============================] - 0s 2ms/step - loss: 0.3212 - accuracy: 0.8654 - val_loss: 0.3484 - val_accuracy: 0.8494\n",
      "Epoch 80/100\n",
      "200/200 [==============================] - 0s 2ms/step - loss: 0.3279 - accuracy: 0.8629 - val_loss: 0.3484 - val_accuracy: 0.8494\n",
      "Epoch 81/100\n",
      "200/200 [==============================] - 0s 2ms/step - loss: 0.3147 - accuracy: 0.8686 - val_loss: 0.3474 - val_accuracy: 0.8500\n",
      "Epoch 82/100\n",
      "200/200 [==============================] - 0s 2ms/step - loss: 0.3170 - accuracy: 0.8679 - val_loss: 0.3489 - val_accuracy: 0.8475\n",
      "Epoch 83/100\n",
      "200/200 [==============================] - 0s 2ms/step - loss: 0.3114 - accuracy: 0.8702 - val_loss: 0.3490 - val_accuracy: 0.8475\n",
      "Epoch 84/100\n",
      "200/200 [==============================] - 1s 3ms/step - loss: 0.3416 - accuracy: 0.8575 - val_loss: 0.3482 - val_accuracy: 0.8500\n",
      "Epoch 85/100\n",
      "200/200 [==============================] - 0s 2ms/step - loss: 0.3233 - accuracy: 0.8621 - val_loss: 0.3481 - val_accuracy: 0.8512\n",
      "Epoch 86/100\n",
      "200/200 [==============================] - 0s 2ms/step - loss: 0.3239 - accuracy: 0.8642 - val_loss: 0.3494 - val_accuracy: 0.8481\n",
      "Epoch 87/100\n",
      "200/200 [==============================] - 0s 2ms/step - loss: 0.3183 - accuracy: 0.8679 - val_loss: 0.3490 - val_accuracy: 0.8519\n",
      "Epoch 88/100\n",
      "200/200 [==============================] - 0s 2ms/step - loss: 0.3226 - accuracy: 0.8644 - val_loss: 0.3503 - val_accuracy: 0.8475\n",
      "Epoch 89/100\n",
      "200/200 [==============================] - 0s 2ms/step - loss: 0.3189 - accuracy: 0.8660 - val_loss: 0.3492 - val_accuracy: 0.8525\n",
      "Epoch 90/100\n",
      "200/200 [==============================] - 0s 2ms/step - loss: 0.3192 - accuracy: 0.8677 - val_loss: 0.3498 - val_accuracy: 0.8494\n",
      "Epoch 91/100\n",
      "200/200 [==============================] - 0s 2ms/step - loss: 0.3129 - accuracy: 0.8727 - val_loss: 0.3480 - val_accuracy: 0.8519\n",
      "Epoch 92/100\n",
      "200/200 [==============================] - 0s 2ms/step - loss: 0.3126 - accuracy: 0.8699 - val_loss: 0.3495 - val_accuracy: 0.8487\n",
      "Epoch 93/100\n",
      "200/200 [==============================] - 0s 2ms/step - loss: 0.3109 - accuracy: 0.8693 - val_loss: 0.3474 - val_accuracy: 0.8456\n",
      "Epoch 94/100\n",
      "200/200 [==============================] - 0s 2ms/step - loss: 0.2987 - accuracy: 0.8760 - val_loss: 0.3473 - val_accuracy: 0.8487\n",
      "Epoch 95/100\n",
      "200/200 [==============================] - 0s 2ms/step - loss: 0.3153 - accuracy: 0.8711 - val_loss: 0.3480 - val_accuracy: 0.8487\n",
      "Epoch 96/100\n",
      "200/200 [==============================] - 1s 3ms/step - loss: 0.3161 - accuracy: 0.8659 - val_loss: 0.3471 - val_accuracy: 0.8487\n",
      "Epoch 97/100\n",
      "200/200 [==============================] - 0s 2ms/step - loss: 0.3117 - accuracy: 0.8672 - val_loss: 0.3482 - val_accuracy: 0.8469\n",
      "Epoch 98/100\n",
      "200/200 [==============================] - 0s 2ms/step - loss: 0.3225 - accuracy: 0.8655 - val_loss: 0.3476 - val_accuracy: 0.8462\n",
      "Epoch 99/100\n",
      "200/200 [==============================] - 0s 2ms/step - loss: 0.3179 - accuracy: 0.8633 - val_loss: 0.3507 - val_accuracy: 0.8500\n",
      "Epoch 100/100\n",
      "200/200 [==============================] - 0s 2ms/step - loss: 0.3024 - accuracy: 0.8751 - val_loss: 0.3498 - val_accuracy: 0.8481\n"
     ]
    },
    {
     "data": {
      "text/plain": [
       "<tensorflow.python.keras.callbacks.History at 0x258d9d18310>"
      ]
     },
     "execution_count": 33,
     "metadata": {},
     "output_type": "execute_result"
    }
   ],
   "source": [
    "#increase epochs to 100. Add valaidation_splits paramater. Here it's 0.2. \n",
    "#(Eg: Out of 8000 customers, our model will run on 8000 - 20% customers and \n",
    "#test it with the remaining 20% to give the accuracy. This is a very good standard to validate your model performance)\n",
    "\n",
    "#Note: Our end goal is to reduce the loss and increase the accuracy\n",
    "#IMP NOTE:Acuuracy of both training and validation set hsould increase gradually. \n",
    "#If only training accuracy is increasing and validation acuuracy is stagnant, then it is a case of overfitting\n",
    "\n",
    "model.fit(X_train_scaled, y_train, epochs=100, validation_split=0.2)"
   ]
  },
  {
   "cell_type": "code",
   "execution_count": 34,
   "metadata": {},
   "outputs": [],
   "source": [
    "#Optional to get every layers weights\n",
    "\n",
    "#model.layers[0].get_weights()\n",
    "#model.layers[1].get_weights()\n",
    "#model.layers[2].get_weights()"
   ]
  },
  {
   "cell_type": "code",
   "execution_count": 35,
   "metadata": {},
   "outputs": [],
   "source": [
    "y_log = model.predict(X_test_scaled)"
   ]
  },
  {
   "cell_type": "code",
   "execution_count": 36,
   "metadata": {},
   "outputs": [],
   "source": [
    "y_pred = np.where(y_log > 0.5, 1, 0)"
   ]
  },
  {
   "cell_type": "code",
   "execution_count": 37,
   "metadata": {},
   "outputs": [
    {
     "data": {
      "text/plain": [
       "0.8625"
      ]
     },
     "execution_count": 37,
     "metadata": {},
     "output_type": "execute_result"
    }
   ],
   "source": [
    "accuracy_score(y_test, y_pred)"
   ]
  },
  {
   "cell_type": "markdown",
   "metadata": {},
   "source": [
    "## Step 9: Plotting and checking loss and accuracy"
   ]
  },
  {
   "cell_type": "code",
   "execution_count": 38,
   "metadata": {},
   "outputs": [
    {
     "name": "stdout",
     "output_type": "stream",
     "text": [
      "Epoch 1/100\n",
      "200/200 [==============================] - 0s 2ms/step - loss: 0.3148 - accuracy: 0.8689 - val_loss: 0.3480 - val_accuracy: 0.8469\n",
      "Epoch 2/100\n",
      "200/200 [==============================] - 0s 2ms/step - loss: 0.3144 - accuracy: 0.8672 - val_loss: 0.3501 - val_accuracy: 0.8494\n",
      "Epoch 3/100\n",
      "200/200 [==============================] - 0s 2ms/step - loss: 0.3148 - accuracy: 0.8694 - val_loss: 0.3503 - val_accuracy: 0.8506\n",
      "Epoch 4/100\n",
      "200/200 [==============================] - 0s 2ms/step - loss: 0.3145 - accuracy: 0.8700 - val_loss: 0.3499 - val_accuracy: 0.8481\n",
      "Epoch 5/100\n",
      "200/200 [==============================] - 0s 2ms/step - loss: 0.3143 - accuracy: 0.8691 - val_loss: 0.3522 - val_accuracy: 0.8475\n",
      "Epoch 6/100\n",
      "200/200 [==============================] - 0s 2ms/step - loss: 0.3140 - accuracy: 0.8694 - val_loss: 0.3490 - val_accuracy: 0.8487\n",
      "Epoch 7/100\n",
      "200/200 [==============================] - 1s 3ms/step - loss: 0.3137 - accuracy: 0.8703 - val_loss: 0.3499 - val_accuracy: 0.8506\n",
      "Epoch 8/100\n",
      "200/200 [==============================] - 1s 3ms/step - loss: 0.3145 - accuracy: 0.8695 - val_loss: 0.3497 - val_accuracy: 0.8481\n",
      "Epoch 9/100\n",
      "200/200 [==============================] - 0s 2ms/step - loss: 0.3139 - accuracy: 0.8716 - val_loss: 0.3491 - val_accuracy: 0.8481\n",
      "Epoch 10/100\n",
      "200/200 [==============================] - 0s 2ms/step - loss: 0.3141 - accuracy: 0.8695 - val_loss: 0.3504 - val_accuracy: 0.8519\n",
      "Epoch 11/100\n",
      "200/200 [==============================] - 0s 2ms/step - loss: 0.3136 - accuracy: 0.8694 - val_loss: 0.3504 - val_accuracy: 0.8475\n",
      "Epoch 12/100\n",
      "200/200 [==============================] - 0s 2ms/step - loss: 0.3141 - accuracy: 0.8687 - val_loss: 0.3493 - val_accuracy: 0.8500\n",
      "Epoch 13/100\n",
      "200/200 [==============================] - 0s 2ms/step - loss: 0.3137 - accuracy: 0.8706 - val_loss: 0.3486 - val_accuracy: 0.8500\n",
      "Epoch 14/100\n",
      "200/200 [==============================] - 0s 2ms/step - loss: 0.3141 - accuracy: 0.8700 - val_loss: 0.3499 - val_accuracy: 0.8494\n",
      "Epoch 15/100\n",
      "200/200 [==============================] - 0s 2ms/step - loss: 0.3131 - accuracy: 0.8708 - val_loss: 0.3491 - val_accuracy: 0.8512\n",
      "Epoch 16/100\n",
      "200/200 [==============================] - 0s 2ms/step - loss: 0.3130 - accuracy: 0.8703 - val_loss: 0.3505 - val_accuracy: 0.8462\n",
      "Epoch 17/100\n",
      "200/200 [==============================] - 0s 2ms/step - loss: 0.3133 - accuracy: 0.8691 - val_loss: 0.3498 - val_accuracy: 0.8481\n",
      "Epoch 18/100\n",
      "200/200 [==============================] - 0s 2ms/step - loss: 0.3135 - accuracy: 0.8705 - val_loss: 0.3514 - val_accuracy: 0.8500\n",
      "Epoch 19/100\n",
      "200/200 [==============================] - 0s 2ms/step - loss: 0.3131 - accuracy: 0.8694 - val_loss: 0.3504 - val_accuracy: 0.8487\n",
      "Epoch 20/100\n",
      "200/200 [==============================] - 0s 2ms/step - loss: 0.3133 - accuracy: 0.8683 - val_loss: 0.3495 - val_accuracy: 0.8487\n",
      "Epoch 21/100\n",
      "200/200 [==============================] - 0s 2ms/step - loss: 0.3134 - accuracy: 0.8695 - val_loss: 0.3505 - val_accuracy: 0.8481\n",
      "Epoch 22/100\n",
      "200/200 [==============================] - 0s 2ms/step - loss: 0.3132 - accuracy: 0.8706 - val_loss: 0.3510 - val_accuracy: 0.8475\n",
      "Epoch 23/100\n",
      "200/200 [==============================] - 0s 2ms/step - loss: 0.3127 - accuracy: 0.8723 - val_loss: 0.3516 - val_accuracy: 0.8481\n",
      "Epoch 24/100\n",
      "200/200 [==============================] - 0s 2ms/step - loss: 0.3134 - accuracy: 0.8700 - val_loss: 0.3530 - val_accuracy: 0.8469\n",
      "Epoch 25/100\n",
      "200/200 [==============================] - 0s 2ms/step - loss: 0.3124 - accuracy: 0.8684 - val_loss: 0.3516 - val_accuracy: 0.8494\n",
      "Epoch 26/100\n",
      "200/200 [==============================] - 0s 2ms/step - loss: 0.3129 - accuracy: 0.8706 - val_loss: 0.3500 - val_accuracy: 0.8475\n",
      "Epoch 27/100\n",
      "200/200 [==============================] - 0s 2ms/step - loss: 0.3123 - accuracy: 0.8708 - val_loss: 0.3496 - val_accuracy: 0.8462\n",
      "Epoch 28/100\n",
      "200/200 [==============================] - 0s 2ms/step - loss: 0.3127 - accuracy: 0.8695 - val_loss: 0.3498 - val_accuracy: 0.8481\n",
      "Epoch 29/100\n",
      "200/200 [==============================] - 0s 2ms/step - loss: 0.3121 - accuracy: 0.8700 - val_loss: 0.3510 - val_accuracy: 0.8475\n",
      "Epoch 30/100\n",
      "200/200 [==============================] - 0s 2ms/step - loss: 0.3122 - accuracy: 0.8695 - val_loss: 0.3487 - val_accuracy: 0.8525\n",
      "Epoch 31/100\n",
      "200/200 [==============================] - 0s 2ms/step - loss: 0.3127 - accuracy: 0.8705 - val_loss: 0.3495 - val_accuracy: 0.8506\n",
      "Epoch 32/100\n",
      "200/200 [==============================] - 0s 2ms/step - loss: 0.3123 - accuracy: 0.8698 - val_loss: 0.3511 - val_accuracy: 0.8475\n",
      "Epoch 33/100\n",
      "200/200 [==============================] - 0s 2ms/step - loss: 0.3120 - accuracy: 0.8702 - val_loss: 0.3505 - val_accuracy: 0.8500\n",
      "Epoch 34/100\n",
      "200/200 [==============================] - 0s 2ms/step - loss: 0.3123 - accuracy: 0.8705 - val_loss: 0.3510 - val_accuracy: 0.8475\n",
      "Epoch 35/100\n",
      "200/200 [==============================] - 1s 3ms/step - loss: 0.3118 - accuracy: 0.8708 - val_loss: 0.3509 - val_accuracy: 0.8487\n",
      "Epoch 36/100\n",
      "200/200 [==============================] - 0s 2ms/step - loss: 0.3119 - accuracy: 0.8703 - val_loss: 0.3512 - val_accuracy: 0.8475\n",
      "Epoch 37/100\n",
      "200/200 [==============================] - 0s 2ms/step - loss: 0.3118 - accuracy: 0.8714 - val_loss: 0.3502 - val_accuracy: 0.8469\n",
      "Epoch 38/100\n",
      "200/200 [==============================] - 0s 2ms/step - loss: 0.3120 - accuracy: 0.8702 - val_loss: 0.3518 - val_accuracy: 0.8475\n",
      "Epoch 39/100\n",
      "200/200 [==============================] - 0s 2ms/step - loss: 0.3121 - accuracy: 0.8691 - val_loss: 0.3513 - val_accuracy: 0.8494\n",
      "Epoch 40/100\n",
      "200/200 [==============================] - 0s 2ms/step - loss: 0.3120 - accuracy: 0.8695 - val_loss: 0.3519 - val_accuracy: 0.8469\n",
      "Epoch 41/100\n",
      "200/200 [==============================] - 0s 2ms/step - loss: 0.3120 - accuracy: 0.8692 - val_loss: 0.3527 - val_accuracy: 0.8456\n",
      "Epoch 42/100\n",
      "200/200 [==============================] - 0s 2ms/step - loss: 0.3115 - accuracy: 0.8712 - val_loss: 0.3509 - val_accuracy: 0.8475\n",
      "Epoch 43/100\n",
      "200/200 [==============================] - 0s 2ms/step - loss: 0.3118 - accuracy: 0.8689 - val_loss: 0.3521 - val_accuracy: 0.8475\n",
      "Epoch 44/100\n",
      "200/200 [==============================] - 0s 2ms/step - loss: 0.3115 - accuracy: 0.8705 - val_loss: 0.3529 - val_accuracy: 0.8469\n",
      "Epoch 45/100\n",
      "200/200 [==============================] - 0s 2ms/step - loss: 0.3113 - accuracy: 0.8700 - val_loss: 0.3501 - val_accuracy: 0.8506\n",
      "Epoch 46/100\n",
      "200/200 [==============================] - 0s 2ms/step - loss: 0.3115 - accuracy: 0.8712 - val_loss: 0.3505 - val_accuracy: 0.8494\n",
      "Epoch 47/100\n",
      "200/200 [==============================] - 0s 2ms/step - loss: 0.3111 - accuracy: 0.8722 - val_loss: 0.3521 - val_accuracy: 0.8462\n",
      "Epoch 48/100\n",
      "200/200 [==============================] - 0s 2ms/step - loss: 0.3115 - accuracy: 0.8705 - val_loss: 0.3521 - val_accuracy: 0.8469\n",
      "Epoch 49/100\n",
      "200/200 [==============================] - 1s 3ms/step - loss: 0.3111 - accuracy: 0.8708 - val_loss: 0.3517 - val_accuracy: 0.8450\n",
      "Epoch 50/100\n",
      "200/200 [==============================] - 0s 2ms/step - loss: 0.3118 - accuracy: 0.8703 - val_loss: 0.3520 - val_accuracy: 0.8456\n",
      "Epoch 51/100\n",
      "200/200 [==============================] - 0s 2ms/step - loss: 0.3117 - accuracy: 0.8709 - val_loss: 0.3525 - val_accuracy: 0.8462\n",
      "Epoch 52/100\n",
      "200/200 [==============================] - 0s 2ms/step - loss: 0.3116 - accuracy: 0.8703 - val_loss: 0.3521 - val_accuracy: 0.8475\n",
      "Epoch 53/100\n",
      "200/200 [==============================] - 1s 5ms/step - loss: 0.3112 - accuracy: 0.8692 - val_loss: 0.3510 - val_accuracy: 0.8481\n",
      "Epoch 54/100\n",
      "200/200 [==============================] - 1s 4ms/step - loss: 0.3112 - accuracy: 0.8714 - val_loss: 0.3523 - val_accuracy: 0.8462\n",
      "Epoch 55/100\n",
      "200/200 [==============================] - 1s 4ms/step - loss: 0.3106 - accuracy: 0.8703 - val_loss: 0.3524 - val_accuracy: 0.8531\n",
      "Epoch 56/100\n",
      "200/200 [==============================] - 1s 4ms/step - loss: 0.3108 - accuracy: 0.8708 - val_loss: 0.3564 - val_accuracy: 0.8456\n",
      "Epoch 57/100\n",
      "200/200 [==============================] - 1s 5ms/step - loss: 0.3112 - accuracy: 0.8706 - val_loss: 0.3522 - val_accuracy: 0.8469\n"
     ]
    },
    {
     "name": "stdout",
     "output_type": "stream",
     "text": [
      "Epoch 58/100\n",
      "200/200 [==============================] - 1s 5ms/step - loss: 0.3107 - accuracy: 0.8705 - val_loss: 0.3523 - val_accuracy: 0.8487\n",
      "Epoch 59/100\n",
      "200/200 [==============================] - 1s 6ms/step - loss: 0.3110 - accuracy: 0.8705 - val_loss: 0.3514 - val_accuracy: 0.8462\n",
      "Epoch 60/100\n",
      "200/200 [==============================] - 1s 5ms/step - loss: 0.3104 - accuracy: 0.8711 - val_loss: 0.3533 - val_accuracy: 0.8438\n",
      "Epoch 61/100\n",
      "200/200 [==============================] - 1s 5ms/step - loss: 0.3110 - accuracy: 0.8694 - val_loss: 0.3527 - val_accuracy: 0.8462\n",
      "Epoch 62/100\n",
      "200/200 [==============================] - 1s 4ms/step - loss: 0.3108 - accuracy: 0.8714 - val_loss: 0.3521 - val_accuracy: 0.8456\n",
      "Epoch 63/100\n",
      "200/200 [==============================] - 1s 4ms/step - loss: 0.3103 - accuracy: 0.8716 - val_loss: 0.3535 - val_accuracy: 0.8475\n",
      "Epoch 64/100\n",
      "200/200 [==============================] - 1s 4ms/step - loss: 0.3105 - accuracy: 0.8711 - val_loss: 0.3505 - val_accuracy: 0.8512\n",
      "Epoch 65/100\n",
      "200/200 [==============================] - 1s 4ms/step - loss: 0.3106 - accuracy: 0.8703 - val_loss: 0.3503 - val_accuracy: 0.8487\n",
      "Epoch 66/100\n",
      "200/200 [==============================] - 1s 5ms/step - loss: 0.3105 - accuracy: 0.8700 - val_loss: 0.3534 - val_accuracy: 0.8487\n",
      "Epoch 67/100\n",
      "200/200 [==============================] - 1s 4ms/step - loss: 0.3105 - accuracy: 0.8703 - val_loss: 0.3528 - val_accuracy: 0.8481\n",
      "Epoch 68/100\n",
      "200/200 [==============================] - 1s 5ms/step - loss: 0.3109 - accuracy: 0.8705 - val_loss: 0.3521 - val_accuracy: 0.8469\n",
      "Epoch 69/100\n",
      "200/200 [==============================] - 1s 5ms/step - loss: 0.3103 - accuracy: 0.8711 - val_loss: 0.3504 - val_accuracy: 0.8494\n",
      "Epoch 70/100\n",
      "200/200 [==============================] - 1s 5ms/step - loss: 0.3108 - accuracy: 0.8711 - val_loss: 0.3504 - val_accuracy: 0.8487\n",
      "Epoch 71/100\n",
      "200/200 [==============================] - 1s 5ms/step - loss: 0.3102 - accuracy: 0.8720 - val_loss: 0.3514 - val_accuracy: 0.8487\n",
      "Epoch 72/100\n",
      "200/200 [==============================] - 1s 5ms/step - loss: 0.3099 - accuracy: 0.8714 - val_loss: 0.3495 - val_accuracy: 0.8500\n",
      "Epoch 73/100\n",
      "200/200 [==============================] - 1s 6ms/step - loss: 0.3099 - accuracy: 0.8708 - val_loss: 0.3513 - val_accuracy: 0.8494\n",
      "Epoch 74/100\n",
      "200/200 [==============================] - 1s 6ms/step - loss: 0.3104 - accuracy: 0.8712 - val_loss: 0.3502 - val_accuracy: 0.8506\n",
      "Epoch 75/100\n",
      "200/200 [==============================] - 1s 6ms/step - loss: 0.3103 - accuracy: 0.8717 - val_loss: 0.3519 - val_accuracy: 0.8462\n",
      "Epoch 76/100\n",
      "200/200 [==============================] - 1s 4ms/step - loss: 0.3098 - accuracy: 0.8722 - val_loss: 0.3522 - val_accuracy: 0.8481\n",
      "Epoch 77/100\n",
      "200/200 [==============================] - 1s 4ms/step - loss: 0.3099 - accuracy: 0.8725 - val_loss: 0.3531 - val_accuracy: 0.8506\n",
      "Epoch 78/100\n",
      "200/200 [==============================] - 1s 4ms/step - loss: 0.3103 - accuracy: 0.8711 - val_loss: 0.3504 - val_accuracy: 0.8487\n",
      "Epoch 79/100\n",
      "200/200 [==============================] - 1s 4ms/step - loss: 0.3104 - accuracy: 0.8711 - val_loss: 0.3506 - val_accuracy: 0.8500\n",
      "Epoch 80/100\n",
      "200/200 [==============================] - 1s 4ms/step - loss: 0.3096 - accuracy: 0.8723 - val_loss: 0.3505 - val_accuracy: 0.8487\n",
      "Epoch 81/100\n",
      "200/200 [==============================] - 1s 5ms/step - loss: 0.3099 - accuracy: 0.8708 - val_loss: 0.3499 - val_accuracy: 0.8506\n",
      "Epoch 82/100\n",
      "200/200 [==============================] - 1s 4ms/step - loss: 0.3093 - accuracy: 0.8722 - val_loss: 0.3514 - val_accuracy: 0.8475\n",
      "Epoch 83/100\n",
      "200/200 [==============================] - 1s 4ms/step - loss: 0.3105 - accuracy: 0.8711 - val_loss: 0.3525 - val_accuracy: 0.8469\n",
      "Epoch 84/100\n",
      "200/200 [==============================] - 1s 4ms/step - loss: 0.3092 - accuracy: 0.8719 - val_loss: 0.3516 - val_accuracy: 0.8506\n",
      "Epoch 85/100\n",
      "200/200 [==============================] - 1s 4ms/step - loss: 0.3096 - accuracy: 0.8725 - val_loss: 0.3502 - val_accuracy: 0.8494\n",
      "Epoch 86/100\n",
      "200/200 [==============================] - 1s 3ms/step - loss: 0.3089 - accuracy: 0.8730 - val_loss: 0.3520 - val_accuracy: 0.8500\n",
      "Epoch 87/100\n",
      "200/200 [==============================] - 1s 4ms/step - loss: 0.3095 - accuracy: 0.8708 - val_loss: 0.3507 - val_accuracy: 0.8525\n",
      "Epoch 88/100\n",
      "200/200 [==============================] - 1s 5ms/step - loss: 0.3089 - accuracy: 0.8730 - val_loss: 0.3507 - val_accuracy: 0.8525\n",
      "Epoch 89/100\n",
      "200/200 [==============================] - 1s 4ms/step - loss: 0.3096 - accuracy: 0.8720 - val_loss: 0.3512 - val_accuracy: 0.8525\n",
      "Epoch 90/100\n",
      "200/200 [==============================] - 1s 3ms/step - loss: 0.3092 - accuracy: 0.8720 - val_loss: 0.3513 - val_accuracy: 0.8494\n",
      "Epoch 91/100\n",
      "200/200 [==============================] - 1s 4ms/step - loss: 0.3097 - accuracy: 0.8722 - val_loss: 0.3510 - val_accuracy: 0.8494\n",
      "Epoch 92/100\n",
      "200/200 [==============================] - 1s 4ms/step - loss: 0.3091 - accuracy: 0.8712 - val_loss: 0.3513 - val_accuracy: 0.8475\n",
      "Epoch 93/100\n",
      "200/200 [==============================] - 1s 4ms/step - loss: 0.3088 - accuracy: 0.8719 - val_loss: 0.3545 - val_accuracy: 0.8487\n",
      "Epoch 94/100\n",
      "200/200 [==============================] - 1s 4ms/step - loss: 0.3087 - accuracy: 0.8714 - val_loss: 0.3512 - val_accuracy: 0.8500\n",
      "Epoch 95/100\n",
      "200/200 [==============================] - 1s 4ms/step - loss: 0.3088 - accuracy: 0.8728 - val_loss: 0.3498 - val_accuracy: 0.8519\n",
      "Epoch 96/100\n",
      "200/200 [==============================] - 1s 3ms/step - loss: 0.3089 - accuracy: 0.8731 - val_loss: 0.3524 - val_accuracy: 0.8512\n",
      "Epoch 97/100\n",
      "200/200 [==============================] - 1s 3ms/step - loss: 0.3082 - accuracy: 0.8739 - val_loss: 0.3514 - val_accuracy: 0.8500\n",
      "Epoch 98/100\n",
      "200/200 [==============================] - 1s 3ms/step - loss: 0.3087 - accuracy: 0.8723 - val_loss: 0.3516 - val_accuracy: 0.8500\n",
      "Epoch 99/100\n",
      "200/200 [==============================] - 1s 3ms/step - loss: 0.3085 - accuracy: 0.8723 - val_loss: 0.3518 - val_accuracy: 0.8469\n",
      "Epoch 100/100\n",
      "200/200 [==============================] - 1s 3ms/step - loss: 0.3088 - accuracy: 0.8700 - val_loss: 0.3525 - val_accuracy: 0.8494\n"
     ]
    }
   ],
   "source": [
    "#we can directly update the previous code. This is for demo purpose\n",
    "\n",
    "#creating history variable to store training and validation (of epochs) data\n",
    "\n",
    "history = model.fit(X_train_scaled, y_train, epochs=100, validation_split=0.2)"
   ]
  },
  {
   "cell_type": "code",
   "execution_count": 39,
   "metadata": {},
   "outputs": [
    {
     "data": {
      "text/plain": [
       "{'loss': [0.3148421347141266,\n",
       "  0.31437408924102783,\n",
       "  0.3147590756416321,\n",
       "  0.3145278990268707,\n",
       "  0.31425756216049194,\n",
       "  0.31400153040885925,\n",
       "  0.3137073218822479,\n",
       "  0.31449344754219055,\n",
       "  0.31393226981163025,\n",
       "  0.3140878975391388,\n",
       "  0.3135818839073181,\n",
       "  0.31405362486839294,\n",
       "  0.3137297034263611,\n",
       "  0.314115971326828,\n",
       "  0.31314992904663086,\n",
       "  0.31297996640205383,\n",
       "  0.31332501769065857,\n",
       "  0.3134838342666626,\n",
       "  0.31307026743888855,\n",
       "  0.31327980756759644,\n",
       "  0.31338492035865784,\n",
       "  0.313152015209198,\n",
       "  0.3126699924468994,\n",
       "  0.31335023045539856,\n",
       "  0.3124223053455353,\n",
       "  0.3128776550292969,\n",
       "  0.3122543394565582,\n",
       "  0.31266331672668457,\n",
       "  0.31213995814323425,\n",
       "  0.31216737627983093,\n",
       "  0.3126731216907501,\n",
       "  0.31234458088874817,\n",
       "  0.31195127964019775,\n",
       "  0.31227120757102966,\n",
       "  0.31184452772140503,\n",
       "  0.31190094351768494,\n",
       "  0.3117547035217285,\n",
       "  0.31196969747543335,\n",
       "  0.3121492266654968,\n",
       "  0.3120066821575165,\n",
       "  0.3120296001434326,\n",
       "  0.3114636540412903,\n",
       "  0.311776727437973,\n",
       "  0.3115342855453491,\n",
       "  0.3113473355770111,\n",
       "  0.3114830553531647,\n",
       "  0.31106215715408325,\n",
       "  0.31149613857269287,\n",
       "  0.31114718317985535,\n",
       "  0.3117733299732208,\n",
       "  0.3117065131664276,\n",
       "  0.3116134703159332,\n",
       "  0.31124624609947205,\n",
       "  0.3111933171749115,\n",
       "  0.3106001913547516,\n",
       "  0.31078270077705383,\n",
       "  0.3112298548221588,\n",
       "  0.31074368953704834,\n",
       "  0.31104838848114014,\n",
       "  0.3103571832180023,\n",
       "  0.31096306443214417,\n",
       "  0.31081318855285645,\n",
       "  0.3102830946445465,\n",
       "  0.31049424409866333,\n",
       "  0.31055140495300293,\n",
       "  0.3105490505695343,\n",
       "  0.310537189245224,\n",
       "  0.31087520718574524,\n",
       "  0.31029099225997925,\n",
       "  0.3107987344264984,\n",
       "  0.3101755380630493,\n",
       "  0.3099135160446167,\n",
       "  0.30985376238822937,\n",
       "  0.3104057013988495,\n",
       "  0.31033802032470703,\n",
       "  0.30984652042388916,\n",
       "  0.30994758009910583,\n",
       "  0.3103179335594177,\n",
       "  0.31040158867836,\n",
       "  0.30960121750831604,\n",
       "  0.30994194746017456,\n",
       "  0.309304803609848,\n",
       "  0.31049200892448425,\n",
       "  0.30915623903274536,\n",
       "  0.30961698293685913,\n",
       "  0.308904230594635,\n",
       "  0.3094632029533386,\n",
       "  0.3089074194431305,\n",
       "  0.30961355566978455,\n",
       "  0.3092321753501892,\n",
       "  0.3096988797187805,\n",
       "  0.30905869603157043,\n",
       "  0.308768630027771,\n",
       "  0.3086518943309784,\n",
       "  0.30881252884864807,\n",
       "  0.3088574707508087,\n",
       "  0.30816683173179626,\n",
       "  0.30869242548942566,\n",
       "  0.30849194526672363,\n",
       "  0.3088219463825226],\n",
       " 'accuracy': [0.8689062595367432,\n",
       "  0.8671875,\n",
       "  0.8693749904632568,\n",
       "  0.8700000047683716,\n",
       "  0.8690624833106995,\n",
       "  0.8693749904632568,\n",
       "  0.870312511920929,\n",
       "  0.8695312738418579,\n",
       "  0.8715624809265137,\n",
       "  0.8695312738418579,\n",
       "  0.8693749904632568,\n",
       "  0.8687499761581421,\n",
       "  0.8706250190734863,\n",
       "  0.8700000047683716,\n",
       "  0.8707812428474426,\n",
       "  0.870312511920929,\n",
       "  0.8690624833106995,\n",
       "  0.8704687356948853,\n",
       "  0.8693749904632568,\n",
       "  0.8682812452316284,\n",
       "  0.8695312738418579,\n",
       "  0.8706250190734863,\n",
       "  0.8723437786102295,\n",
       "  0.8700000047683716,\n",
       "  0.8684375286102295,\n",
       "  0.8706250190734863,\n",
       "  0.8707812428474426,\n",
       "  0.8695312738418579,\n",
       "  0.8700000047683716,\n",
       "  0.8695312738418579,\n",
       "  0.8704687356948853,\n",
       "  0.8698437213897705,\n",
       "  0.8701562285423279,\n",
       "  0.8704687356948853,\n",
       "  0.8707812428474426,\n",
       "  0.870312511920929,\n",
       "  0.8714062571525574,\n",
       "  0.8701562285423279,\n",
       "  0.8690624833106995,\n",
       "  0.8695312738418579,\n",
       "  0.8692187666893005,\n",
       "  0.8712499737739563,\n",
       "  0.8689062595367432,\n",
       "  0.8704687356948853,\n",
       "  0.8700000047683716,\n",
       "  0.8712499737739563,\n",
       "  0.8721874952316284,\n",
       "  0.8704687356948853,\n",
       "  0.8707812428474426,\n",
       "  0.870312511920929,\n",
       "  0.8709375262260437,\n",
       "  0.870312511920929,\n",
       "  0.8692187666893005,\n",
       "  0.8714062571525574,\n",
       "  0.870312511920929,\n",
       "  0.8707812428474426,\n",
       "  0.8706250190734863,\n",
       "  0.8704687356948853,\n",
       "  0.8704687356948853,\n",
       "  0.87109375,\n",
       "  0.8693749904632568,\n",
       "  0.8714062571525574,\n",
       "  0.8715624809265137,\n",
       "  0.87109375,\n",
       "  0.870312511920929,\n",
       "  0.8700000047683716,\n",
       "  0.870312511920929,\n",
       "  0.8704687356948853,\n",
       "  0.87109375,\n",
       "  0.87109375,\n",
       "  0.8720312714576721,\n",
       "  0.8714062571525574,\n",
       "  0.8707812428474426,\n",
       "  0.8712499737739563,\n",
       "  0.8717187643051147,\n",
       "  0.8721874952316284,\n",
       "  0.8725000023841858,\n",
       "  0.87109375,\n",
       "  0.87109375,\n",
       "  0.8723437786102295,\n",
       "  0.8707812428474426,\n",
       "  0.8721874952316284,\n",
       "  0.87109375,\n",
       "  0.871874988079071,\n",
       "  0.8725000023841858,\n",
       "  0.8729687333106995,\n",
       "  0.8707812428474426,\n",
       "  0.8729687333106995,\n",
       "  0.8720312714576721,\n",
       "  0.8720312714576721,\n",
       "  0.8721874952316284,\n",
       "  0.8712499737739563,\n",
       "  0.871874988079071,\n",
       "  0.8714062571525574,\n",
       "  0.8728125095367432,\n",
       "  0.8731250166893005,\n",
       "  0.8739062547683716,\n",
       "  0.8723437786102295,\n",
       "  0.8723437786102295,\n",
       "  0.8700000047683716],\n",
       " 'val_loss': [0.3480292856693268,\n",
       "  0.35013678669929504,\n",
       "  0.3502711057662964,\n",
       "  0.3499071002006531,\n",
       "  0.3522460162639618,\n",
       "  0.3489651381969452,\n",
       "  0.3498547375202179,\n",
       "  0.3496696352958679,\n",
       "  0.3491206467151642,\n",
       "  0.35041946172714233,\n",
       "  0.35040873289108276,\n",
       "  0.34930041432380676,\n",
       "  0.3486279249191284,\n",
       "  0.34989017248153687,\n",
       "  0.34911179542541504,\n",
       "  0.35052379965782166,\n",
       "  0.34978795051574707,\n",
       "  0.3513725996017456,\n",
       "  0.35044264793395996,\n",
       "  0.3495279550552368,\n",
       "  0.3505004048347473,\n",
       "  0.35098397731781006,\n",
       "  0.35155460238456726,\n",
       "  0.35300618410110474,\n",
       "  0.35161659121513367,\n",
       "  0.35001593828201294,\n",
       "  0.3495602309703827,\n",
       "  0.3498431146144867,\n",
       "  0.3509734869003296,\n",
       "  0.3487113118171692,\n",
       "  0.3495345413684845,\n",
       "  0.3510986268520355,\n",
       "  0.3504739999771118,\n",
       "  0.35096466541290283,\n",
       "  0.35086292028427124,\n",
       "  0.35119903087615967,\n",
       "  0.3502042293548584,\n",
       "  0.3517599105834961,\n",
       "  0.3513146638870239,\n",
       "  0.3519457280635834,\n",
       "  0.3526623547077179,\n",
       "  0.3509254455566406,\n",
       "  0.35211431980133057,\n",
       "  0.35289955139160156,\n",
       "  0.35008516907691956,\n",
       "  0.3505193293094635,\n",
       "  0.35206863284111023,\n",
       "  0.35212138295173645,\n",
       "  0.35173743963241577,\n",
       "  0.3519936501979828,\n",
       "  0.35247546434402466,\n",
       "  0.35207808017730713,\n",
       "  0.35098063945770264,\n",
       "  0.35228800773620605,\n",
       "  0.35237789154052734,\n",
       "  0.3564300835132599,\n",
       "  0.35218650102615356,\n",
       "  0.352299302816391,\n",
       "  0.3514105975627899,\n",
       "  0.3532578945159912,\n",
       "  0.3526507616043091,\n",
       "  0.3520672619342804,\n",
       "  0.35345780849456787,\n",
       "  0.35050827264785767,\n",
       "  0.3503240644931793,\n",
       "  0.35338181257247925,\n",
       "  0.3527902662754059,\n",
       "  0.3521192967891693,\n",
       "  0.35044413805007935,\n",
       "  0.3503757119178772,\n",
       "  0.3514290153980255,\n",
       "  0.34952789545059204,\n",
       "  0.3512924909591675,\n",
       "  0.35017433762550354,\n",
       "  0.35192054510116577,\n",
       "  0.35215649008750916,\n",
       "  0.35310569405555725,\n",
       "  0.35040393471717834,\n",
       "  0.35055068135261536,\n",
       "  0.35054928064346313,\n",
       "  0.3498747944831848,\n",
       "  0.35138583183288574,\n",
       "  0.35251399874687195,\n",
       "  0.35158005356788635,\n",
       "  0.3502201437950134,\n",
       "  0.35199084877967834,\n",
       "  0.350668340921402,\n",
       "  0.3507182002067566,\n",
       "  0.35118815302848816,\n",
       "  0.35129380226135254,\n",
       "  0.3510083258152008,\n",
       "  0.35127466917037964,\n",
       "  0.3544510304927826,\n",
       "  0.35122475028038025,\n",
       "  0.34980273246765137,\n",
       "  0.3523825705051422,\n",
       "  0.35142242908477783,\n",
       "  0.35155585408210754,\n",
       "  0.3518271744251251,\n",
       "  0.35254889726638794],\n",
       " 'val_accuracy': [0.846875011920929,\n",
       "  0.8493750095367432,\n",
       "  0.8506249785423279,\n",
       "  0.8481249809265137,\n",
       "  0.8475000262260437,\n",
       "  0.8487499952316284,\n",
       "  0.8506249785423279,\n",
       "  0.8481249809265137,\n",
       "  0.8481249809265137,\n",
       "  0.8518750071525574,\n",
       "  0.8475000262260437,\n",
       "  0.8500000238418579,\n",
       "  0.8500000238418579,\n",
       "  0.8493750095367432,\n",
       "  0.8512499928474426,\n",
       "  0.8462499976158142,\n",
       "  0.8481249809265137,\n",
       "  0.8500000238418579,\n",
       "  0.8487499952316284,\n",
       "  0.8487499952316284,\n",
       "  0.8481249809265137,\n",
       "  0.8475000262260437,\n",
       "  0.8481249809265137,\n",
       "  0.846875011920929,\n",
       "  0.8493750095367432,\n",
       "  0.8475000262260437,\n",
       "  0.8462499976158142,\n",
       "  0.8481249809265137,\n",
       "  0.8475000262260437,\n",
       "  0.8525000214576721,\n",
       "  0.8506249785423279,\n",
       "  0.8475000262260437,\n",
       "  0.8500000238418579,\n",
       "  0.8475000262260437,\n",
       "  0.8487499952316284,\n",
       "  0.8475000262260437,\n",
       "  0.846875011920929,\n",
       "  0.8475000262260437,\n",
       "  0.8493750095367432,\n",
       "  0.846875011920929,\n",
       "  0.8456249833106995,\n",
       "  0.8475000262260437,\n",
       "  0.8475000262260437,\n",
       "  0.846875011920929,\n",
       "  0.8506249785423279,\n",
       "  0.8493750095367432,\n",
       "  0.8462499976158142,\n",
       "  0.846875011920929,\n",
       "  0.8450000286102295,\n",
       "  0.8456249833106995,\n",
       "  0.8462499976158142,\n",
       "  0.8475000262260437,\n",
       "  0.8481249809265137,\n",
       "  0.8462499976158142,\n",
       "  0.8531249761581421,\n",
       "  0.8456249833106995,\n",
       "  0.846875011920929,\n",
       "  0.8487499952316284,\n",
       "  0.8462499976158142,\n",
       "  0.84375,\n",
       "  0.8462499976158142,\n",
       "  0.8456249833106995,\n",
       "  0.8475000262260437,\n",
       "  0.8512499928474426,\n",
       "  0.8487499952316284,\n",
       "  0.8487499952316284,\n",
       "  0.8481249809265137,\n",
       "  0.846875011920929,\n",
       "  0.8493750095367432,\n",
       "  0.8487499952316284,\n",
       "  0.8487499952316284,\n",
       "  0.8500000238418579,\n",
       "  0.8493750095367432,\n",
       "  0.8506249785423279,\n",
       "  0.8462499976158142,\n",
       "  0.8481249809265137,\n",
       "  0.8506249785423279,\n",
       "  0.8487499952316284,\n",
       "  0.8500000238418579,\n",
       "  0.8487499952316284,\n",
       "  0.8506249785423279,\n",
       "  0.8475000262260437,\n",
       "  0.846875011920929,\n",
       "  0.8506249785423279,\n",
       "  0.8493750095367432,\n",
       "  0.8500000238418579,\n",
       "  0.8525000214576721,\n",
       "  0.8525000214576721,\n",
       "  0.8525000214576721,\n",
       "  0.8493750095367432,\n",
       "  0.8493750095367432,\n",
       "  0.8475000262260437,\n",
       "  0.8487499952316284,\n",
       "  0.8500000238418579,\n",
       "  0.8518750071525574,\n",
       "  0.8512499928474426,\n",
       "  0.8500000238418579,\n",
       "  0.8500000238418579,\n",
       "  0.846875011920929,\n",
       "  0.8493750095367432]}"
      ]
     },
     "execution_count": 39,
     "metadata": {},
     "output_type": "execute_result"
    }
   ],
   "source": [
    "#checking loss, accuracy, val_loss and val_accuracy which are stored inside 'history' variable as dictionary format\n",
    "#(here, it is 100 values each for 100 epochs)\n",
    "\n",
    "history.history"
   ]
  },
  {
   "cell_type": "code",
   "execution_count": 40,
   "metadata": {},
   "outputs": [],
   "source": [
    "#converting this confusing data into plot for better representation\n",
    "import matplotlib.pyplot as plt"
   ]
  },
  {
   "cell_type": "code",
   "execution_count": 41,
   "metadata": {
    "scrolled": true
   },
   "outputs": [
    {
     "data": {
      "text/plain": [
       "<matplotlib.legend.Legend at 0x258dbc18940>"
      ]
     },
     "execution_count": 41,
     "metadata": {},
     "output_type": "execute_result"
    },
    {
     "data": {
      "image/png": "[encoded data removed]",
      "text/plain": [
       "<Figure size 432x288 with 1 Axes>"
      ]
     },
     "metadata": {
      "needs_background": "light"
     },
     "output_type": "display_data"
    }
   ],
   "source": [
    "plt.plot(history.history['loss'], label = 'loss')\n",
    "plt.plot(history.history['val_loss'], label = 'val_loss')\n",
    "plt.legend()"
   ]
  },
  {
   "cell_type": "code",
   "execution_count": 42,
   "metadata": {},
   "outputs": [
    {
     "data": {
      "text/plain": [
       "<matplotlib.legend.Legend at 0x258ddcfee80>"
      ]
     },
     "execution_count": 42,
     "metadata": {},
     "output_type": "execute_result"
    },
    {
     "data": {
      "image/png": "[encoded data removed]",
      "text/plain": [
       "<Figure size 432x288 with 1 Axes>"
      ]
     },
     "metadata": {
      "needs_background": "light"
     },
     "output_type": "display_data"
    }
   ],
   "source": [
    "plt.plot(history.history['accuracy'], label = 'accuracy')\n",
    "plt.plot(history.history['val_accuracy'], label = 'val_accuracy')\n",
    "plt.legend()"
   ]
  },
  {
   "cell_type": "code",
   "execution_count": null,
   "metadata": {},
   "outputs": [],
   "source": []
  },
  {
   "cell_type": "code",
   "execution_count": null,
   "metadata": {},
   "outputs": [],
   "source": []
  }
 ],
 "metadata": {
  "kernelspec": {
   "display_name": "Python 3",
   "language": "python",
   "name": "python3"
  },
  "language_info": {
   "codemirror_mode": {
    "name": "ipython",
    "version": 3
   },
   "file_extension": ".py",
   "mimetype": "text/x-python",
   "name": "python",
   "nbconvert_exporter": "python",
   "pygments_lexer": "ipython3",
   "version": "3.8.7"
  }
 },
 "nbformat": 4,
 "nbformat_minor": 4
}
